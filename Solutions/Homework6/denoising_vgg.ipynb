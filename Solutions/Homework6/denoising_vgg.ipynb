{
 "cells": [
  {
   "cell_type": "markdown",
   "metadata": {},
   "source": [
    "# Denoising Challenge"
   ]
  },
  {
   "cell_type": "code",
   "execution_count": 1,
   "metadata": {},
   "outputs": [
    {
     "name": "stderr",
     "output_type": "stream",
     "text": [
      "Using TensorFlow backend.\n"
     ]
    },
    {
     "name": "stdout",
     "output_type": "stream",
     "text": [
      "[name: \"/device:CPU:0\"\n",
      "device_type: \"CPU\"\n",
      "memory_limit: 268435456\n",
      "locality {\n",
      "}\n",
      "incarnation: 2207847687253056707\n",
      "]\n"
     ]
    }
   ],
   "source": [
    "import numpy as np\n",
    "import matplotlib.pyplot as plt\n",
    "\n",
    "import keras\n",
    "from keras import backend as K\n",
    "from keras.optimizers import Adam\n",
    "from keras.models import Model\n",
    "from keras.layers import Input, Dense, Dropout, LeakyReLU, BatchNormalization, Conv2D, Lambda\n",
    "from keras.callbacks import ModelCheckpoint, TensorBoard, EarlyStopping\n",
    "\n",
    "from tensorflow.python.client import device_lib\n",
    "print(device_lib.list_local_devices())\n",
    "\n",
    "K.set_image_data_format(\"channels_first\")"
   ]
  },
  {
   "cell_type": "markdown",
   "metadata": {},
   "source": [
    "### Importing & prepare data"
   ]
  },
  {
   "cell_type": "code",
   "execution_count": 2,
   "metadata": {},
   "outputs": [],
   "source": [
    "import numpy as np\n",
    "\n",
    "with np.load('./data/denoising-challenge-01-data.npz') as fh:\n",
    "        train_y = fh['training_images_clean']\n",
    "        validation_x = fh['validation_images_noisy']\n",
    "        validation_y = fh['validation_images_clean']\n",
    "        test_x = fh['test_images_noisy']"
   ]
  },
  {
   "cell_type": "markdown",
   "metadata": {},
   "source": [
    "### Data shapes"
   ]
  },
  {
   "cell_type": "code",
   "execution_count": 3,
   "metadata": {},
   "outputs": [
    {
     "name": "stdout",
     "output_type": "stream",
     "text": [
      "training: (20000, 1, 28, 28)\n",
      "validation: (2000, 1, 28, 28)\n",
      "test: (2000, 1, 28, 28)\n"
     ]
    }
   ],
   "source": [
    "print('training: ' + str(train_y.shape))\n",
    "print('validation: ' + str(validation_x.shape))\n",
    "print('test: ' + str(test_x.shape))"
   ]
  },
  {
   "cell_type": "markdown",
   "metadata": {},
   "source": [
    "### Visualize some data"
   ]
  },
  {
   "cell_type": "code",
   "execution_count": 4,
   "metadata": {},
   "outputs": [
    {
     "name": "stdout",
     "output_type": "stream",
     "text": [
      "(1, 28, 28)\n"
     ]
    },
    {
     "data": {
      "text/plain": [
       "<matplotlib.image.AxesImage at 0x7fab271018d0>"
      ]
     },
     "execution_count": 4,
     "metadata": {},
     "output_type": "execute_result"
    },
    {
     "data": {
      "image/png": "[encoded data removed]",
      "text/plain": [
       "<Figure size 432x288 with 1 Axes>"
      ]
     },
     "metadata": {},
     "output_type": "display_data"
    }
   ],
   "source": [
    "import matplotlib.pyplot as plt\n",
    "%matplotlib inline\n",
    "\n",
    "plt.figure()\n",
    "plt.title('Training')\n",
    "print(train_y[0].shape)\n",
    "plt.imshow(train_y[0].reshape(28,28), cmap='gray')"
   ]
  },
  {
   "cell_type": "code",
   "execution_count": 5,
   "metadata": {},
   "outputs": [
    {
     "data": {
      "text/plain": [
       "<matplotlib.image.AxesImage at 0x7fab26fcf5f8>"
      ]
     },
     "execution_count": 5,
     "metadata": {},
     "output_type": "execute_result"
    },
    {
     "data": {
      "image/png": "[encoded data removed]",
      "text/plain": [
       "<Figure size 432x288 with 1 Axes>"
      ]
     },
     "metadata": {},
     "output_type": "display_data"
    },
    {
     "data": {
      "image/png": "[encoded data removed]",
      "text/plain": [
       "<Figure size 432x288 with 1 Axes>"
      ]
     },
     "metadata": {},
     "output_type": "display_data"
    }
   ],
   "source": [
    "plt.figure()\n",
    "plt.title('Validation Noisy')\n",
    "plt.imshow(validation_x[0].reshape(28,28), cmap='gray')\n",
    "\n",
    "plt.figure()\n",
    "plt.title('Validation clean')\n",
    "plt.imshow(validation_y[0].reshape(28,28), cmap='gray')"
   ]
  },
  {
   "cell_type": "code",
   "execution_count": 6,
   "metadata": {},
   "outputs": [
    {
     "data": {
      "text/plain": [
       "<matplotlib.image.AxesImage at 0x7fab26fcf940>"
      ]
     },
     "execution_count": 6,
     "metadata": {},
     "output_type": "execute_result"
    },
    {
     "data": {
      "image/png": "[encoded data removed]",
      "text/plain": [
       "<Figure size 432x288 with 1 Axes>"
      ]
     },
     "metadata": {},
     "output_type": "display_data"
    }
   ],
   "source": [
    "plt.figure()\n",
    "plt.title('Test')\n",
    "plt.imshow(test_x[0].reshape(28,28), cmap='gray')"
   ]
  },
  {
   "cell_type": "markdown",
   "metadata": {},
   "source": [
    "### Calculate standart deviation of gaussian noise"
   ]
  },
  {
   "cell_type": "code",
   "execution_count": 7,
   "metadata": {},
   "outputs": [
    {
     "data": {
      "text/plain": [
       "0.20003203"
      ]
     },
     "execution_count": 7,
     "metadata": {},
     "output_type": "execute_result"
    }
   ],
   "source": [
    "noise = validation_x - validation_y\n",
    "noise_sigma = np.std(noise)\n",
    "\n",
    "noise_sigma"
   ]
  },
  {
   "cell_type": "markdown",
   "metadata": {},
   "source": [
    "### Create a noise generator"
   ]
  },
  {
   "cell_type": "code",
   "execution_count": 8,
   "metadata": {},
   "outputs": [],
   "source": [
    "def getNoisy(clean, sigma=noise_sigma):\n",
    "    return clean + sigma * np.random.normal(0, 1, clean.shape)"
   ]
  },
  {
   "cell_type": "markdown",
   "metadata": {},
   "source": [
    "### Check if we get everything right by adding noise to validation image and displaying it"
   ]
  },
  {
   "cell_type": "code",
   "execution_count": 9,
   "metadata": {},
   "outputs": [
    {
     "data": {
      "text/plain": [
       "<matplotlib.image.AxesImage at 0x7fab26f8c278>"
      ]
     },
     "execution_count": 9,
     "metadata": {},
     "output_type": "execute_result"
    },
    {
     "data": {
      "image/png": "[encoded data removed]",
      "text/plain": [
       "<Figure size 432x288 with 1 Axes>"
      ]
     },
     "metadata": {},
     "output_type": "display_data"
    },
    {
     "data": {
      "image/png": "[encoded data removed]",
      "text/plain": [
       "<Figure size 432x288 with 1 Axes>"
      ]
     },
     "metadata": {},
     "output_type": "display_data"
    }
   ],
   "source": [
    "plt.figure()\n",
    "plt.title('Validation clean with added noise')\n",
    "plt.imshow(getNoisy(validation_y[0]).reshape(28, 28), cmap='gray')\n",
    "\n",
    "plt.figure()\n",
    "plt.title('Validation clean')\n",
    "plt.imshow(validation_y[0].reshape(28,28), cmap='gray')"
   ]
  },
  {
   "cell_type": "markdown",
   "metadata": {},
   "source": [
    "### Data Augmentation (Bootstrapping)\n",
    "\n",
    "We don't really want to predict anything so we can go wild and crazy with the transformations (horizontal & vertical flips, random rotations, etc.). As we don't have much computing power however, we will only use flips, as they are pretty fast to compute."
   ]
  },
  {
   "cell_type": "code",
   "execution_count": 10,
   "metadata": {},
   "outputs": [],
   "source": [
    "def horizontalFlip(image):\n",
    "    return np.flip(image, 3)\n",
    "\n",
    "def verticalFlip(image):\n",
    "    return np.flip(image, 2)"
   ]
  },
  {
   "cell_type": "code",
   "execution_count": 11,
   "metadata": {},
   "outputs": [
    {
     "data": {
      "text/plain": [
       "<matplotlib.image.AxesImage at 0x7fab26fc9160>"
      ]
     },
     "execution_count": 11,
     "metadata": {},
     "output_type": "execute_result"
    },
    {
     "data": {
      "image/png": "[encoded data removed]",
      "text/plain": [
       "<Figure size 432x288 with 1 Axes>"
      ]
     },
     "metadata": {},
     "output_type": "display_data"
    },
    {
     "data": {
      "image/png": "[encoded data removed]",
      "text/plain": [
       "<Figure size 432x288 with 1 Axes>"
      ]
     },
     "metadata": {},
     "output_type": "display_data"
    }
   ],
   "source": [
    "plt.figure(\"some image\")\n",
    "plt.imshow(validation_y[0].reshape(28,28), cmap='gray')\n",
    "\n",
    "plt.figure(\"some vertically flipped image\")\n",
    "plt.imshow(verticalFlip(validation_y)[0].reshape(28,28), cmap='gray')"
   ]
  },
  {
   "cell_type": "markdown",
   "metadata": {},
   "source": [
    "### Prepare data for training"
   ]
  },
  {
   "cell_type": "code",
   "execution_count": 12,
   "metadata": {},
   "outputs": [],
   "source": [
    "def get_train_set(train_y):\n",
    "    # augment data; better for general purpose denoisers, though for MNIST digits it doesn't make too much sense\n",
    "    \n",
    "    # train_enhanced = np.vstack([train_y, verticalFlip(train_y)])\n",
    "    # train_enhanced = np.vstack([train_enhanced, horizontalFlip(train_y)])\n",
    "    train_enhanced = train_y\n",
    "    \n",
    "    # repeat data, as we are going to add different noise to each image, more is more\n",
    "    train_enhanced = np.repeat(train_enhanced, 5, axis=0)\n",
    "    # add noise\n",
    "    train_x = getNoisy(train_enhanced)\n",
    "    \n",
    "    return train_x, train_enhanced"
   ]
  },
  {
   "cell_type": "markdown",
   "metadata": {},
   "source": [
    "## Model\n",
    "\n",
    "We based our model entirely on residual denoising convolutional NN. Further information can be found in this paper (https://arxiv.org/pdf/1608.03981.pdf). "
   ]
  },
  {
   "cell_type": "markdown",
   "metadata": {},
   "source": [
    "#### All hyperparams"
   ]
  },
  {
   "cell_type": "code",
   "execution_count": 13,
   "metadata": {},
   "outputs": [],
   "source": [
    "input_shape = train_y.shape[1:4]\n",
    "# 64 masks is a much better way to go, though computing such a model on CPU takes way too long\n",
    "hidden_layers = [16] * 15\n",
    "kernel_size = (3,3)\n",
    "strides = (1,1)\n",
    "padding= 'same'\n",
    "\n",
    "epochs = 50\n",
    "batch_size = 128"
   ]
  },
  {
   "cell_type": "markdown",
   "metadata": {},
   "source": [
    "#### Define Loss, Frobenius norm"
   ]
  },
  {
   "cell_type": "code",
   "execution_count": 14,
   "metadata": {},
   "outputs": [],
   "source": [
    "def frobenius(yTrue, yPred):\n",
    "    return K.sqrt(K.sum((yTrue - yPred)**2, axis=(1,2,3)))"
   ]
  },
  {
   "cell_type": "markdown",
   "metadata": {},
   "source": [
    "#### VGG Network with residual learning"
   ]
  },
  {
   "cell_type": "code",
   "execution_count": 15,
   "metadata": {},
   "outputs": [
    {
     "name": "stdout",
     "output_type": "stream",
     "text": [
      "__________________________________________________________________________________________________\n",
      "Layer (type)                    Output Shape         Param #     Connected to                     \n",
      "==================================================================================================\n",
      "noisy_input (InputLayer)        (None, 1, 28, 28)    0                                            \n",
      "__________________________________________________________________________________________________\n",
      "conv2d_1 (Conv2D)               (None, 16, 28, 28)   160         noisy_input[0][0]                \n",
      "__________________________________________________________________________________________________\n",
      "batch_normalization_1 (BatchNor (None, 16, 28, 28)   112         conv2d_1[0][0]                   \n",
      "__________________________________________________________________________________________________\n",
      "leaky_re_lu_1 (LeakyReLU)       (None, 16, 28, 28)   0           batch_normalization_1[0][0]      \n",
      "__________________________________________________________________________________________________\n",
      "dropout_1 (Dropout)             (None, 16, 28, 28)   0           leaky_re_lu_1[0][0]              \n",
      "__________________________________________________________________________________________________\n",
      "conv2d_2 (Conv2D)               (None, 16, 28, 28)   2320        dropout_1[0][0]                  \n",
      "__________________________________________________________________________________________________\n",
      "batch_normalization_2 (BatchNor (None, 16, 28, 28)   112         conv2d_2[0][0]                   \n",
      "__________________________________________________________________________________________________\n",
      "leaky_re_lu_2 (LeakyReLU)       (None, 16, 28, 28)   0           batch_normalization_2[0][0]      \n",
      "__________________________________________________________________________________________________\n",
      "dropout_2 (Dropout)             (None, 16, 28, 28)   0           leaky_re_lu_2[0][0]              \n",
      "__________________________________________________________________________________________________\n",
      "conv2d_3 (Conv2D)               (None, 16, 28, 28)   2320        dropout_2[0][0]                  \n",
      "__________________________________________________________________________________________________\n",
      "batch_normalization_3 (BatchNor (None, 16, 28, 28)   112         conv2d_3[0][0]                   \n",
      "__________________________________________________________________________________________________\n",
      "leaky_re_lu_3 (LeakyReLU)       (None, 16, 28, 28)   0           batch_normalization_3[0][0]      \n",
      "__________________________________________________________________________________________________\n",
      "dropout_3 (Dropout)             (None, 16, 28, 28)   0           leaky_re_lu_3[0][0]              \n",
      "__________________________________________________________________________________________________\n",
      "conv2d_4 (Conv2D)               (None, 16, 28, 28)   2320        dropout_3[0][0]                  \n",
      "__________________________________________________________________________________________________\n",
      "batch_normalization_4 (BatchNor (None, 16, 28, 28)   112         conv2d_4[0][0]                   \n",
      "__________________________________________________________________________________________________\n",
      "leaky_re_lu_4 (LeakyReLU)       (None, 16, 28, 28)   0           batch_normalization_4[0][0]      \n",
      "__________________________________________________________________________________________________\n",
      "dropout_4 (Dropout)             (None, 16, 28, 28)   0           leaky_re_lu_4[0][0]              \n",
      "__________________________________________________________________________________________________\n",
      "conv2d_5 (Conv2D)               (None, 16, 28, 28)   2320        dropout_4[0][0]                  \n",
      "__________________________________________________________________________________________________\n",
      "batch_normalization_5 (BatchNor (None, 16, 28, 28)   112         conv2d_5[0][0]                   \n",
      "__________________________________________________________________________________________________\n",
      "leaky_re_lu_5 (LeakyReLU)       (None, 16, 28, 28)   0           batch_normalization_5[0][0]      \n",
      "__________________________________________________________________________________________________\n",
      "dropout_5 (Dropout)             (None, 16, 28, 28)   0           leaky_re_lu_5[0][0]              \n",
      "__________________________________________________________________________________________________\n",
      "shortcut-1 (Add)                (None, 16, 28, 28)   0           dropout_5[0][0]                  \n",
      "                                                                 noisy_input[0][0]                \n",
      "__________________________________________________________________________________________________\n",
      "conv2d_6 (Conv2D)               (None, 16, 28, 28)   2320        shortcut-1[0][0]                 \n",
      "__________________________________________________________________________________________________\n",
      "batch_normalization_6 (BatchNor (None, 16, 28, 28)   112         conv2d_6[0][0]                   \n",
      "__________________________________________________________________________________________________\n",
      "leaky_re_lu_6 (LeakyReLU)       (None, 16, 28, 28)   0           batch_normalization_6[0][0]      \n",
      "__________________________________________________________________________________________________\n",
      "dropout_6 (Dropout)             (None, 16, 28, 28)   0           leaky_re_lu_6[0][0]              \n",
      "__________________________________________________________________________________________________\n",
      "conv2d_7 (Conv2D)               (None, 16, 28, 28)   2320        dropout_6[0][0]                  \n",
      "__________________________________________________________________________________________________\n",
      "batch_normalization_7 (BatchNor (None, 16, 28, 28)   112         conv2d_7[0][0]                   \n",
      "__________________________________________________________________________________________________\n",
      "leaky_re_lu_7 (LeakyReLU)       (None, 16, 28, 28)   0           batch_normalization_7[0][0]      \n",
      "__________________________________________________________________________________________________\n",
      "dropout_7 (Dropout)             (None, 16, 28, 28)   0           leaky_re_lu_7[0][0]              \n",
      "__________________________________________________________________________________________________\n",
      "conv2d_8 (Conv2D)               (None, 16, 28, 28)   2320        dropout_7[0][0]                  \n",
      "__________________________________________________________________________________________________\n",
      "batch_normalization_8 (BatchNor (None, 16, 28, 28)   112         conv2d_8[0][0]                   \n",
      "__________________________________________________________________________________________________\n",
      "leaky_re_lu_8 (LeakyReLU)       (None, 16, 28, 28)   0           batch_normalization_8[0][0]      \n",
      "__________________________________________________________________________________________________\n",
      "dropout_8 (Dropout)             (None, 16, 28, 28)   0           leaky_re_lu_8[0][0]              \n",
      "__________________________________________________________________________________________________\n",
      "conv2d_9 (Conv2D)               (None, 16, 28, 28)   2320        dropout_8[0][0]                  \n",
      "__________________________________________________________________________________________________\n",
      "batch_normalization_9 (BatchNor (None, 16, 28, 28)   112         conv2d_9[0][0]                   \n",
      "__________________________________________________________________________________________________\n",
      "leaky_re_lu_9 (LeakyReLU)       (None, 16, 28, 28)   0           batch_normalization_9[0][0]      \n",
      "__________________________________________________________________________________________________\n",
      "dropout_9 (Dropout)             (None, 16, 28, 28)   0           leaky_re_lu_9[0][0]              \n",
      "__________________________________________________________________________________________________\n",
      "shortcut-2 (Add)                (None, 16, 28, 28)   0           dropout_9[0][0]                  \n",
      "                                                                 shortcut-1[0][0]                 \n",
      "__________________________________________________________________________________________________\n",
      "conv2d_10 (Conv2D)              (None, 16, 28, 28)   2320        shortcut-2[0][0]                 \n",
      "__________________________________________________________________________________________________\n",
      "batch_normalization_10 (BatchNo (None, 16, 28, 28)   112         conv2d_10[0][0]                  \n",
      "__________________________________________________________________________________________________\n",
      "leaky_re_lu_10 (LeakyReLU)      (None, 16, 28, 28)   0           batch_normalization_10[0][0]     \n",
      "__________________________________________________________________________________________________\n",
      "dropout_10 (Dropout)            (None, 16, 28, 28)   0           leaky_re_lu_10[0][0]             \n",
      "__________________________________________________________________________________________________\n",
      "conv2d_11 (Conv2D)              (None, 16, 28, 28)   2320        dropout_10[0][0]                 \n",
      "__________________________________________________________________________________________________\n",
      "batch_normalization_11 (BatchNo (None, 16, 28, 28)   112         conv2d_11[0][0]                  \n",
      "__________________________________________________________________________________________________\n",
      "leaky_re_lu_11 (LeakyReLU)      (None, 16, 28, 28)   0           batch_normalization_11[0][0]     \n",
      "__________________________________________________________________________________________________\n",
      "dropout_11 (Dropout)            (None, 16, 28, 28)   0           leaky_re_lu_11[0][0]             \n",
      "__________________________________________________________________________________________________\n",
      "conv2d_12 (Conv2D)              (None, 16, 28, 28)   2320        dropout_11[0][0]                 \n",
      "__________________________________________________________________________________________________\n",
      "batch_normalization_12 (BatchNo (None, 16, 28, 28)   112         conv2d_12[0][0]                  \n",
      "__________________________________________________________________________________________________\n",
      "leaky_re_lu_12 (LeakyReLU)      (None, 16, 28, 28)   0           batch_normalization_12[0][0]     \n",
      "__________________________________________________________________________________________________\n",
      "dropout_12 (Dropout)            (None, 16, 28, 28)   0           leaky_re_lu_12[0][0]             \n",
      "__________________________________________________________________________________________________\n",
      "conv2d_13 (Conv2D)              (None, 16, 28, 28)   2320        dropout_12[0][0]                 \n",
      "__________________________________________________________________________________________________\n",
      "batch_normalization_13 (BatchNo (None, 16, 28, 28)   112         conv2d_13[0][0]                  \n",
      "__________________________________________________________________________________________________\n",
      "leaky_re_lu_13 (LeakyReLU)      (None, 16, 28, 28)   0           batch_normalization_13[0][0]     \n",
      "__________________________________________________________________________________________________\n",
      "dropout_13 (Dropout)            (None, 16, 28, 28)   0           leaky_re_lu_13[0][0]             \n",
      "__________________________________________________________________________________________________\n",
      "shortcut-3 (Add)                (None, 16, 28, 28)   0           dropout_13[0][0]                 \n",
      "                                                                 shortcut-2[0][0]                 \n",
      "__________________________________________________________________________________________________\n",
      "conv2d_14 (Conv2D)              (None, 16, 28, 28)   2320        shortcut-3[0][0]                 \n",
      "__________________________________________________________________________________________________\n",
      "batch_normalization_14 (BatchNo (None, 16, 28, 28)   112         conv2d_14[0][0]                  \n",
      "__________________________________________________________________________________________________\n",
      "leaky_re_lu_14 (LeakyReLU)      (None, 16, 28, 28)   0           batch_normalization_14[0][0]     \n",
      "__________________________________________________________________________________________________\n",
      "dropout_14 (Dropout)            (None, 16, 28, 28)   0           leaky_re_lu_14[0][0]             \n",
      "__________________________________________________________________________________________________\n",
      "conv2d_15 (Conv2D)              (None, 16, 28, 28)   2320        dropout_14[0][0]                 \n",
      "__________________________________________________________________________________________________\n",
      "batch_normalization_15 (BatchNo (None, 16, 28, 28)   112         conv2d_15[0][0]                  \n",
      "__________________________________________________________________________________________________\n",
      "leaky_re_lu_15 (LeakyReLU)      (None, 16, 28, 28)   0           batch_normalization_15[0][0]     \n",
      "__________________________________________________________________________________________________\n",
      "dropout_15 (Dropout)            (None, 16, 28, 28)   0           leaky_re_lu_15[0][0]             \n",
      "__________________________________________________________________________________________________\n",
      "image_noise (Conv2D)            (None, 1, 28, 28)    145         dropout_15[0][0]                 \n",
      "__________________________________________________________________________________________________\n",
      "denoised_output (Add)           (None, 1, 28, 28)    0           noisy_input[0][0]                \n",
      "                                                                 image_noise[0][0]                \n",
      "__________________________________________________________________________________________________\n",
      "activation_1 (Activation)       (None, 1, 28, 28)    0           denoised_output[0][0]            \n",
      "==================================================================================================\n",
      "Total params: 34,465\n",
      "Trainable params: 33,625\n",
      "Non-trainable params: 840\n",
      "__________________________________________________________________________________________________\n"
     ]
    }
   ],
   "source": [
    "noisy_input = Input(shape=input_shape, name='noisy_input')\n",
    "x = noisy_input\n",
    "last_shortcut = x\n",
    "for i, layer in enumerate(hidden_layers):\n",
    "    x = Conv2D(layer, kernel_size, strides=strides, padding=padding)(x)\n",
    "    x = BatchNormalization()(x)\n",
    "    x = LeakyReLU(alpha=0.001)(x)\n",
    "    x = Dropout(0.5)(x)\n",
    "    \n",
    "    if i % 4 == 0 and i != 0:\n",
    "        shortcut_name = 'shortcut-{}'.format(i // 4)\n",
    "        x = keras.layers.Add(name=shortcut_name)([x, last_shortcut])\n",
    "        last_shortcut = x\n",
    "    \n",
    "# x = Conv2D(1, kernel_size, strides=strides, padding=padding, activation='sigmoid', name='image_noise')(x)\n",
    "x = Conv2D(1, kernel_size, strides=strides, padding=padding, name='image_noise')(x)\n",
    "x = keras.layers.Add(name='denoised_output')([noisy_input, x])\n",
    "x = keras.layers.Activation('sigmoid')(x)\n",
    "# make sure our images are valid by clipping the output to within the allowed values\n",
    "model = Model(noisy_input, x, name='denoiser')\n",
    "model.summary()\n",
    "\n",
    "model.compile(loss='binary_crossentropy',\n",
    "              optimizer=keras.optimizers.Adam(lr=0.01),\n",
    "              metrics=['accuracy', frobenius])"
   ]
  },
  {
   "cell_type": "markdown",
   "metadata": {},
   "source": [
    "### Train"
   ]
  },
  {
   "cell_type": "code",
   "execution_count": 16,
   "metadata": {},
   "outputs": [],
   "source": [
    "# get train data\n",
    "X, y = get_train_set(train_y)"
   ]
  },
  {
   "cell_type": "code",
   "execution_count": 17,
   "metadata": {},
   "outputs": [
    {
     "name": "stdout",
     "output_type": "stream",
     "text": [
      "Train on 100000 samples, validate on 2000 samples\n",
      "Epoch 1/50\n",
      "100000/100000 [==============================] - 1734s 17ms/step - loss: 0.0936 - acc: 0.8125 - frobenius: 2.3795 - val_loss: 0.0714 - val_acc: 0.8154 - val_frobenius: 1.5196\n",
      "\n",
      "Epoch 00001: val_frobenius improved from inf to 1.51963, saving model to ./model/weights.hdf5\n",
      "Epoch 2/50\n",
      "100000/100000 [==============================] - 1649s 16ms/step - loss: 0.0750 - acc: 0.8140 - frobenius: 1.7479 - val_loss: 0.0705 - val_acc: 0.8154 - val_frobenius: 1.4819\n",
      "\n",
      "Epoch 00002: val_frobenius improved from 1.51963 to 1.48195, saving model to ./model/weights.hdf5\n",
      "Epoch 3/50\n",
      "100000/100000 [==============================] - 1648s 16ms/step - loss: 0.0741 - acc: 0.8141 - frobenius: 1.7051 - val_loss: 0.0702 - val_acc: 0.8154 - val_frobenius: 1.4788\n",
      "\n",
      "Epoch 00003: val_frobenius improved from 1.48195 to 1.47877, saving model to ./model/weights.hdf5\n",
      "Epoch 4/50\n",
      "100000/100000 [==============================] - 1645s 16ms/step - loss: 0.0737 - acc: 0.8141 - frobenius: 1.6816 - val_loss: 0.0699 - val_acc: 0.8154 - val_frobenius: 1.4636\n",
      "\n",
      "Epoch 00004: val_frobenius improved from 1.47877 to 1.46362, saving model to ./model/weights.hdf5\n",
      "Epoch 5/50\n",
      "100000/100000 [==============================] - 1645s 16ms/step - loss: 0.0733 - acc: 0.8141 - frobenius: 1.6593 - val_loss: 0.0696 - val_acc: 0.8154 - val_frobenius: 1.4542\n",
      "\n",
      "Epoch 00005: val_frobenius improved from 1.46362 to 1.45418, saving model to ./model/weights.hdf5\n",
      "Epoch 6/50\n",
      "100000/100000 [==============================] - 1644s 16ms/step - loss: 0.0731 - acc: 0.8141 - frobenius: 1.6427 - val_loss: 0.0693 - val_acc: 0.8154 - val_frobenius: 1.4275\n",
      "\n",
      "Epoch 00006: val_frobenius improved from 1.45418 to 1.42754, saving model to ./model/weights.hdf5\n",
      "Epoch 7/50\n",
      "100000/100000 [==============================] - 1651s 17ms/step - loss: 0.0729 - acc: 0.8141 - frobenius: 1.6334 - val_loss: 0.0692 - val_acc: 0.8154 - val_frobenius: 1.4298\n",
      "\n",
      "Epoch 00007: val_frobenius did not improve from 1.42754\n",
      "Epoch 8/50\n",
      "100000/100000 [==============================] - 1650s 17ms/step - loss: 0.0728 - acc: 0.8141 - frobenius: 1.6265 - val_loss: 0.0690 - val_acc: 0.8154 - val_frobenius: 1.3950\n",
      "\n",
      "Epoch 00008: val_frobenius improved from 1.42754 to 1.39496, saving model to ./model/weights.hdf5\n",
      "Epoch 9/50\n",
      "100000/100000 [==============================] - 1655s 17ms/step - loss: 0.0727 - acc: 0.8141 - frobenius: 1.6201 - val_loss: 0.0688 - val_acc: 0.8154 - val_frobenius: 1.3902\n",
      "\n",
      "Epoch 00009: val_frobenius improved from 1.39496 to 1.39022, saving model to ./model/weights.hdf5\n",
      "Epoch 10/50\n",
      "100000/100000 [==============================] - 1650s 16ms/step - loss: 0.0726 - acc: 0.8141 - frobenius: 1.6166 - val_loss: 0.0689 - val_acc: 0.8154 - val_frobenius: 1.3986\n",
      "\n",
      "Epoch 00010: val_frobenius did not improve from 1.39022\n",
      "Epoch 11/50\n",
      "100000/100000 [==============================] - 1652s 17ms/step - loss: 0.0726 - acc: 0.8141 - frobenius: 1.6117 - val_loss: 0.0689 - val_acc: 0.8154 - val_frobenius: 1.3961\n",
      "\n",
      "Epoch 00011: val_frobenius did not improve from 1.39022\n",
      "Epoch 12/50\n",
      "100000/100000 [==============================] - 1648s 16ms/step - loss: 0.0725 - acc: 0.8141 - frobenius: 1.6068 - val_loss: 0.0690 - val_acc: 0.8154 - val_frobenius: 1.4057\n",
      "\n",
      "Epoch 00012: val_frobenius did not improve from 1.39022\n",
      "Epoch 13/50\n",
      "100000/100000 [==============================] - 1648s 16ms/step - loss: 0.0725 - acc: 0.8141 - frobenius: 1.6040 - val_loss: 0.0688 - val_acc: 0.8154 - val_frobenius: 1.3859\n",
      "\n",
      "Epoch 00013: val_frobenius improved from 1.39022 to 1.38589, saving model to ./model/weights.hdf5\n",
      "Epoch 14/50\n",
      "100000/100000 [==============================] - 1650s 17ms/step - loss: 0.0724 - acc: 0.8141 - frobenius: 1.6012 - val_loss: 0.0689 - val_acc: 0.8154 - val_frobenius: 1.4003\n",
      "\n",
      "Epoch 00014: val_frobenius did not improve from 1.38589\n",
      "Epoch 15/50\n",
      "100000/100000 [==============================] - 1649s 16ms/step - loss: 0.0724 - acc: 0.8141 - frobenius: 1.5996 - val_loss: 0.0688 - val_acc: 0.8154 - val_frobenius: 1.3856\n",
      "\n",
      "Epoch 00015: val_frobenius improved from 1.38589 to 1.38557, saving model to ./model/weights.hdf5\n",
      "Epoch 16/50\n",
      "100000/100000 [==============================] - 1650s 17ms/step - loss: 0.0723 - acc: 0.8141 - frobenius: 1.5964 - val_loss: 0.0687 - val_acc: 0.8154 - val_frobenius: 1.3771\n",
      "\n",
      "Epoch 00016: val_frobenius improved from 1.38557 to 1.37711, saving model to ./model/weights.hdf5\n",
      "Epoch 17/50\n",
      "100000/100000 [==============================] - 1649s 16ms/step - loss: 0.0723 - acc: 0.8141 - frobenius: 1.5941 - val_loss: 0.0692 - val_acc: 0.8154 - val_frobenius: 1.4271\n",
      "\n",
      "Epoch 00017: val_frobenius did not improve from 1.37711\n",
      "Epoch 18/50\n",
      "100000/100000 [==============================] - 1652s 17ms/step - loss: 0.0723 - acc: 0.8141 - frobenius: 1.5926 - val_loss: 0.0689 - val_acc: 0.8154 - val_frobenius: 1.4081\n",
      "\n",
      "Epoch 00018: val_frobenius did not improve from 1.37711\n",
      "Epoch 19/50\n",
      "100000/100000 [==============================] - 1650s 17ms/step - loss: 0.0723 - acc: 0.8141 - frobenius: 1.5915 - val_loss: 0.0689 - val_acc: 0.8154 - val_frobenius: 1.3948\n",
      "\n",
      "Epoch 00019: val_frobenius did not improve from 1.37711\n",
      "Epoch 20/50\n",
      "100000/100000 [==============================] - 1652s 17ms/step - loss: 0.0722 - acc: 0.8141 - frobenius: 1.5901 - val_loss: 0.0686 - val_acc: 0.8154 - val_frobenius: 1.3745\n",
      "\n",
      "Epoch 00020: val_frobenius improved from 1.37711 to 1.37450, saving model to ./model/weights.hdf5\n",
      "Epoch 21/50\n",
      "100000/100000 [==============================] - 1651s 17ms/step - loss: 0.0722 - acc: 0.8141 - frobenius: 1.5887 - val_loss: 0.0687 - val_acc: 0.8154 - val_frobenius: 1.3723\n",
      "\n",
      "Epoch 00021: val_frobenius improved from 1.37450 to 1.37234, saving model to ./model/weights.hdf5\n",
      "Epoch 22/50\n",
      "100000/100000 [==============================] - 1647s 16ms/step - loss: 0.0722 - acc: 0.8141 - frobenius: 1.5874 - val_loss: 0.0688 - val_acc: 0.8154 - val_frobenius: 1.3954\n",
      "\n",
      "Epoch 00022: val_frobenius did not improve from 1.37234\n",
      "Epoch 23/50\n",
      "100000/100000 [==============================] - 1650s 16ms/step - loss: 0.0722 - acc: 0.8141 - frobenius: 1.5868 - val_loss: 0.0687 - val_acc: 0.8154 - val_frobenius: 1.3821\n",
      "\n",
      "Epoch 00023: val_frobenius did not improve from 1.37234\n",
      "Epoch 24/50\n",
      "100000/100000 [==============================] - 1650s 16ms/step - loss: 0.0722 - acc: 0.8141 - frobenius: 1.5857 - val_loss: 0.0687 - val_acc: 0.8154 - val_frobenius: 1.3896\n",
      "\n",
      "Epoch 00024: val_frobenius did not improve from 1.37234\n",
      "Epoch 25/50\n",
      "100000/100000 [==============================] - 1650s 17ms/step - loss: 0.0722 - acc: 0.8141 - frobenius: 1.5865 - val_loss: 0.0688 - val_acc: 0.8154 - val_frobenius: 1.3943\n",
      "\n",
      "Epoch 00025: val_frobenius did not improve from 1.37234\n",
      "Epoch 26/50\n",
      "100000/100000 [==============================] - 1654s 17ms/step - loss: 0.0721 - acc: 0.8141 - frobenius: 1.5849 - val_loss: 0.0687 - val_acc: 0.8154 - val_frobenius: 1.3714\n",
      "\n",
      "Epoch 00026: val_frobenius improved from 1.37234 to 1.37143, saving model to ./model/weights.hdf5\n"
     ]
    }
   ],
   "source": [
    "checkpointer = ModelCheckpoint(filepath='./model/weights.hdf5', verbose=1, save_best_only=True, \n",
    "                                               monitor='val_frobenius')\n",
    "tensorboard = TensorBoard(log_dir='./stats/denoising')\n",
    "stop = EarlyStopping(monitor=\"val_frobenius\", min_delta=0.001, patience=5, mode=\"min\")\n",
    "history = model.fit(X, y,\n",
    "                batch_size=batch_size,\n",
    "                epochs=epochs,\n",
    "                verbose=1,\n",
    "                shuffle=True,\n",
    "                validation_data=(validation_x, validation_y),\n",
    "                callbacks=[checkpointer, tensorboard, stop])"
   ]
  },
  {
   "cell_type": "markdown",
   "metadata": {},
   "source": [
    "### Prediction"
   ]
  },
  {
   "cell_type": "code",
   "execution_count": 24,
   "metadata": {},
   "outputs": [
    {
     "data": {
      "text/plain": [
       "<matplotlib.image.AxesImage at 0x7faab149f2e8>"
      ]
     },
     "execution_count": 24,
     "metadata": {},
     "output_type": "execute_result"
    },
    {
     "data": {
      "image/png": "[encoded data removed]",
      "text/plain": [
       "<Figure size 432x288 with 1 Axes>"
      ]
     },
     "metadata": {},
     "output_type": "display_data"
    },
    {
     "data": {
      "image/png": "[encoded data removed]",
      "text/plain": [
       "<Figure size 432x288 with 1 Axes>"
      ]
     },
     "metadata": {},
     "output_type": "display_data"
    },
    {
     "data": {
      "image/png": "[encoded data removed]",
      "text/plain": [
       "<Figure size 432x288 with 1 Axes>"
      ]
     },
     "metadata": {},
     "output_type": "display_data"
    },
    {
     "data": {
      "image/png": "[encoded data removed]",
      "text/plain": [
       "<Figure size 432x288 with 1 Axes>"
      ]
     },
     "metadata": {},
     "output_type": "display_data"
    },
    {
     "data": {
      "image/png": "[encoded data removed]",
      "text/plain": [
       "<Figure size 432x288 with 1 Axes>"
      ]
     },
     "metadata": {},
     "output_type": "display_data"
    },
    {
     "data": {
      "image/png": "[encoded data removed]",
      "text/plain": [
       "<Figure size 432x288 with 1 Axes>"
      ]
     },
     "metadata": {},
     "output_type": "display_data"
    },
    {
     "data": {
      "image/png": "[encoded data removed]",
      "text/plain": [
       "<Figure size 432x288 with 1 Axes>"
      ]
     },
     "metadata": {},
     "output_type": "display_data"
    },
    {
     "data": {
      "image/png": "[encoded data removed]",
      "text/plain": [
       "<Figure size 432x288 with 1 Axes>"
      ]
     },
     "metadata": {},
     "output_type": "display_data"
    }
   ],
   "source": [
    "prediction = model.predict(test_x)\n",
    "prediction_validation = model.predict(np.array([validation_x[0]]))\n",
    "prediction_train = model.predict(np.array([X[0]]))\n",
    "\n",
    "plt.figure()\n",
    "plt.title(\"Test image\")\n",
    "plt.imshow(test_x[0].reshape(28,28), cmap='gray')\n",
    "\n",
    "plt.figure()\n",
    "plt.title(\"Denoised test image\")\n",
    "plt.imshow(prediction[0].reshape(28,28), cmap='gray')\n",
    "\n",
    "\n",
    "plt.figure()\n",
    "plt.title(\"Validation image\")\n",
    "plt.imshow(validation_x[0].reshape(28,28), cmap='gray')\n",
    "\n",
    "plt.figure()\n",
    "plt.title(\"Denoised validation image\")\n",
    "plt.imshow(prediction_validation[0].reshape(28,28), cmap='gray')\n",
    "\n",
    "plt.figure()\n",
    "plt.title(\"Clean validation image\")\n",
    "plt.imshow(validation_y[0].reshape(28,28), cmap='gray')\n",
    "\n",
    "\n",
    "\n",
    "plt.figure()\n",
    "plt.title(\"Train image\")\n",
    "plt.imshow(X[0].reshape(28,28), cmap='gray')\n",
    "\n",
    "plt.figure()\n",
    "plt.title(\"Denoised train image\")\n",
    "plt.imshow(prediction_train[0].reshape(28,28), cmap='gray')\n",
    "\n",
    "plt.figure()\n",
    "plt.title(\"Clean train image\")\n",
    "plt.imshow(y[0].reshape(28,28), cmap='gray')\n",
    "\n"
   ]
  },
  {
   "cell_type": "code",
   "execution_count": 26,
   "metadata": {},
   "outputs": [],
   "source": [
    "np.save('prediction_vgg.npy', prediction)"
   ]
  }
 ],
 "metadata": {
  "kernelspec": {
   "display_name": "dl-keras",
   "language": "python",
   "name": "dl-keras"
  },
  "language_info": {
   "codemirror_mode": {
    "name": "ipython",
    "version": 3
   },
   "file_extension": ".py",
   "mimetype": "text/x-python",
   "name": "python",
   "nbconvert_exporter": "python",
   "pygments_lexer": "ipython3",
   "version": "3.6.5"
  }
 },
 "nbformat": 4,
 "nbformat_minor": 2
}
