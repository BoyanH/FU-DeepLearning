{
 "cells": [
  {
   "cell_type": "markdown",
   "metadata": {},
   "source": [
    "## Assignment 2"
   ]
  },
  {
   "cell_type": "code",
   "execution_count": 1,
   "metadata": {},
   "outputs": [
    {
     "data": {
      "text/plain": [
       "'0.2.0_4'"
      ]
     },
     "execution_count": 1,
     "metadata": {},
     "output_type": "execute_result"
    }
   ],
   "source": [
    "import torch\n",
    "torch.__version__"
   ]
  },
  {
   "cell_type": "markdown",
   "metadata": {},
   "source": [
    "### Importing, normalizing and bootstrapping data\n",
    "\n",
    "We are loading the data from `npz` numpy zip, splitting the training in train and validation sets and parsing those to tensor datasets for training pytorch models  \n",
    "\n",
    "**TODO**: Bootstrap"
   ]
  },
  {
   "cell_type": "code",
   "execution_count": 46,
   "metadata": {},
   "outputs": [],
   "source": [
    "import numpy as np\n",
    "import torch.utils.data as data_utils\n",
    "from torchvision import datasets, transforms\n",
    "from sklearn.model_selection import train_test_split\n",
    "\n",
    "data_set = np.load('./prediction-challenge-01-data.npz')\n",
    "\n",
    "X, y, test_x = data_set['data_x'], data_set['data_y'], data_set['test_x']"
   ]
  },
  {
   "cell_type": "markdown",
   "metadata": {},
   "source": [
    "#### Let's try some bootstrapping"
   ]
  },
  {
   "cell_type": "code",
   "execution_count": 3,
   "metadata": {},
   "outputs": [
    {
     "data": {
      "text/plain": [
       "<matplotlib.image.AxesImage at 0x7f12664725c0>"
      ]
     },
     "execution_count": 3,
     "metadata": {},
     "output_type": "execute_result"
    }
   ],
   "source": [
    "from scipy import ndimage\n",
    "import matplotlib.pyplot as plt\n",
    "\n",
    "plt.imshow(ndimage.rotate(X[0][0], 65, reshape=False), cmap='gray')"
   ]
  },
  {
   "cell_type": "code",
   "execution_count": 4,
   "metadata": {},
   "outputs": [
    {
     "name": "stdout",
     "output_type": "stream",
     "text": [
      "(20000, 1, 28, 28)\n",
      "(20000,)\n"
     ]
    }
   ],
   "source": [
    "train_x, validation_x, train_y, validation_y = train_test_split(X, y, test_size=.2)\n",
    "\n",
    "mean_image = np.mean(train_x, axis=0)\n",
    "train_x -= mean_image\n",
    "validation_x -= mean_image\n",
    "test -= mean_image\n",
    "\n",
    "print(X.shape)\n",
    "print(y.shape)"
   ]
  },
  {
   "cell_type": "markdown",
   "metadata": {},
   "source": [
    "### Rotate\n",
    "\n",
    "Let's rotate the images a little bit in order to gain some more training data"
   ]
  },
  {
   "cell_type": "code",
   "execution_count": null,
   "metadata": {
    "collapsed": true
   },
   "outputs": [],
   "source": [
    "new_x = train_x\n",
    "new_y = train_y\n",
    "for deg in range(15, 61, 15):\n",
    "    new_data = []\n",
    "    new_labels = y\n",
    "    for i, x in enumerate(X):\n",
    "        new_data.append([ndimage.rotate(x[0], 65, reshape=False)])\n",
    "        \n",
    "    new_x = np.vstack([new_x, new_data])\n",
    "    new_y = np.append(new_y, new_labels)\n",
    "train_x = new_x\n",
    "train_y = new_y"
   ]
  },
  {
   "cell_type": "code",
   "execution_count": 5,
   "metadata": {},
   "outputs": [
    {
     "name": "stdout",
     "output_type": "stream",
     "text": [
      "Shape of training data: (16000, 1, 28, 28)\n",
      "Labels' shape: (16000,)\n"
     ]
    }
   ],
   "source": [
    "train_dataset = data_utils.TensorDataset(torch.from_numpy(train_x), torch.from_numpy(train_y))\n",
    "validation_dataset = data_utils.TensorDataset(torch.from_numpy(validation_x), torch.from_numpy(validation_y))\n",
    "\n",
    "# to make sure everything is fine\n",
    "print('Shape of training data: {}'.format(train_x.shape))\n",
    "print('Labels\\' shape: {}'.format(train_y.shape))"
   ]
  },
  {
   "cell_type": "markdown",
   "metadata": {},
   "source": [
    "### Visualizing data\n",
    "\n",
    "It's always good to know how our data looks like and what the corresponding labels are"
   ]
  },
  {
   "cell_type": "code",
   "execution_count": 6,
   "metadata": {},
   "outputs": [
    {
     "data": {
      "text/plain": [
       "5"
      ]
     },
     "execution_count": 6,
     "metadata": {},
     "output_type": "execute_result"
    },
    {
     "data": {
      "image/png": "[encoded data removed]",
      "text/plain": [
       "<matplotlib.figure.Figure at 0x7f1266472fd0>"
      ]
     },
     "metadata": {},
     "output_type": "display_data"
    }
   ],
   "source": [
    "%matplotlib inline\n",
    "\n",
    "plt.imshow(train_x[0][0], cmap='gray')\n",
    "train_y[0]"
   ]
  },
  {
   "cell_type": "code",
   "execution_count": 7,
   "metadata": {},
   "outputs": [
    {
     "data": {
      "text/plain": [
       "<matplotlib.image.AxesImage at 0x7f12625ef550>"
      ]
     },
     "execution_count": 7,
     "metadata": {},
     "output_type": "execute_result"
    },
    {
     "data": {
      "image/png": "[encoded data removed]",
      "text/plain": [
       "<matplotlib.figure.Figure at 0x7f1266472c88>"
      ]
     },
     "metadata": {},
     "output_type": "display_data"
    }
   ],
   "source": [
    "plt.imshow((validation_x)[0][0], cmap='gray')"
   ]
  },
  {
   "cell_type": "markdown",
   "metadata": {},
   "source": [
    "### Mean Image"
   ]
  },
  {
   "cell_type": "code",
   "execution_count": 9,
   "metadata": {},
   "outputs": [
    {
     "data": {
      "text/plain": [
       "<matplotlib.image.AxesImage at 0x7f1262516940>"
      ]
     },
     "execution_count": 9,
     "metadata": {},
     "output_type": "execute_result"
    },
    {
     "data": {
      "image/png": "[encoded data removed]",
      "text/plain": [
       "<matplotlib.figure.Figure at 0x7f1262535cc0>"
      ]
     },
     "metadata": {},
     "output_type": "display_data"
    }
   ],
   "source": [
    "plt.imshow(mean_image[0], cmap='gray')"
   ]
  },
  {
   "cell_type": "markdown",
   "metadata": {},
   "source": [
    "### Model\n",
    "\n",
    "#### VGG\n",
    "\n",
    "As done in \"Mustererkennung\" course in WS17, we used VGG, though not VGG11\n",
    "\n",
    "We are using the VGG nets model. This is a pretty famous model and works great for recognizing images. Basic principle is to have some convolutional layers followed by pooling layers, the whole thing multiple times. Afterwards one usually has some number of fully connected layers, though this is originally not so in VGG. We decided to add the fully connected layers anyways, as we don't have the capcaity to run the original VGG model anyways.\n",
    "\n",
    "Further info -> http://www.robots.ox.ac.uk/~vgg/research/very_deep/\n",
    "\n",
    "#### Batchnorm, Dropout, Xavier\n",
    "\n",
    "Bachnorm makes training a model quicker as it keeps mean and standart deviation consistant within the network (if the model decides it's helpful for it, how much batch normalisation is used is a learning parameter). Dropout makes sure the NN doesn't overfit, as it repeatedly temporarily disables some neurons so better generalisation is reached. Xavier is used for better weights initialisation.\n",
    "\n",
    "#### First implementation\n",
    "\n",
    "Score 99.2%; No FC layers, 0.005 learning rate"
   ]
  },
  {
   "cell_type": "code",
   "execution_count": 20,
   "metadata": {
    "collapsed": true
   },
   "outputs": [],
   "source": [
    "import torch.nn as nn\n",
    "import torch.nn.functional as F\n",
    "\n",
    "cfg = {\n",
    "    'VGG': [16, 32, 'M', 64, 64, 'M', 128, 128, 'M', 128, 128, 'M']\n",
    "}\n",
    "\n",
    "class VGG(nn.Module):\n",
    "    def __init__(self):\n",
    "        super(VGG, self).__init__()\n",
    "        self.conv_layers, self.fc_layers = self._make_layers(cfg['VGG'])\n",
    "        self.classifier = nn.Linear(128, 10)\n",
    "\n",
    "    def forward(self, x):\n",
    "        x = self.conv_layers(x)\n",
    "        \n",
    "        # allow for no FC\n",
    "        if (len(self.fc_layers) > 0):\n",
    "            x = x.view(x.size(0), x.size(1))\n",
    "            x = self.fc_layers(x)\n",
    "\n",
    "        x = x.view(x.size(0), -1)\n",
    "        return self.classifier(x)\n",
    "    \n",
    "    def _make_layers(self, cfg):\n",
    "        conv_layers = []\n",
    "        fc_layers = []\n",
    "        in_channels = 1\n",
    "        build_fc = False\n",
    "        \n",
    "        for x in cfg:\n",
    "            if build_fc:\n",
    "                fc = nn.Linear(in_channels, x)\n",
    "                fc_layers += [fc,\n",
    "                           nn.BatchNorm1d(x),\n",
    "                           nn.ReLU(inplace=True)]\n",
    "                nn.init.xavier_uniform(fc.weight)\n",
    "            elif x == 'M':\n",
    "                conv_layers += [nn.MaxPool2d(kernel_size=2, stride=2)]\n",
    "            elif x == 'FC':\n",
    "                build_fc = True\n",
    "            else:\n",
    "                conv = nn.Conv2d(in_channels, x, kernel_size=3, padding=1)\n",
    "                conv_layers += [conv,\n",
    "                           nn.BatchNorm2d(x),\n",
    "                           nn.ReLU(inplace=True)]\n",
    "                nn.init.xavier_uniform(conv.weight)\n",
    "                \n",
    "            if isinstance(x, int):\n",
    "                in_channels = x\n",
    "        conv_layers += [nn.AvgPool2d(kernel_size=1, stride=1)]\n",
    "            \n",
    "        return nn.Sequential(*conv_layers), nn.Sequential(*fc_layers)"
   ]
  },
  {
   "cell_type": "code",
   "execution_count": 21,
   "metadata": {
    "collapsed": true
   },
   "outputs": [],
   "source": [
    "model = VGG()\n",
    "if torch.cuda.is_available():\n",
    "    model.cuda()"
   ]
  },
  {
   "cell_type": "code",
   "execution_count": 22,
   "metadata": {
    "collapsed": true
   },
   "outputs": [],
   "source": [
    "import torch.optim as optim\n",
    "\n",
    "optimizer = optim.Adam(model.parameters(), lr=0.01)"
   ]
  },
  {
   "cell_type": "code",
   "execution_count": 23,
   "metadata": {},
   "outputs": [
    {
     "name": "stdout",
     "output_type": "stream",
     "text": [
      "num_workers=16\n"
     ]
    }
   ],
   "source": [
    "kwargs = {'num_workers': 1, 'pin_memory': True} if torch.cuda.is_available() else {'num_workers': 16}\n",
    "print('num_workers={}'.format(kwargs['num_workers']))\n",
    "train_loader = torch.utils.data.DataLoader(train_dataset,\n",
    "                                           batch_size=128, \n",
    "                                           shuffle=True,\n",
    "                                           **kwargs)\n",
    "test_loader = torch.utils.data.DataLoader(validation_dataset,\n",
    "                                          batch_size=128,\n",
    "                                          shuffle=False,\n",
    "                                          **kwargs)"
   ]
  },
  {
   "cell_type": "code",
   "execution_count": 24,
   "metadata": {
    "collapsed": true
   },
   "outputs": [],
   "source": [
    "from torch.autograd import Variable\n",
    "\n",
    "def train(epoch, callback):\n",
    "    model.train()\n",
    "    \n",
    "    for batch_idx, (data, target) in enumerate(train_loader):\n",
    "        if torch.cuda.is_available():\n",
    "            data, target = data.cuda(), target.cuda()\n",
    "        data, target = Variable(data), Variable(target)\n",
    "\n",
    "        optimizer.zero_grad()\n",
    "        \n",
    "        output = model(data)\n",
    "        \n",
    "        loss = F.cross_entropy(output, target)\n",
    "        loss.backward()\n",
    "        \n",
    "        optimizer.step()\n",
    "        \n",
    "        callback(batch_idx, output, target)\n",
    "        \n",
    "        print('Train Epoch: {} [{}/{} ({:.0f}%)]\\tLoss: {:.6f}'.format(\n",
    "                epoch, (batch_idx + 1) * len(data), len(train_loader.dataset),\n",
    "                100. * (batch_idx + 1) / len(train_loader), loss.data[0]))"
   ]
  },
  {
   "cell_type": "code",
   "execution_count": 44,
   "metadata": {
    "collapsed": true
   },
   "outputs": [],
   "source": [
    "def test():\n",
    "    model.eval()\n",
    "    \n",
    "    test_loss = 0\n",
    "    correct = 0\n",
    "    for data, target in test_loader:\n",
    "        if torch.cuda.is_available():\n",
    "            data, target = data.cuda(), target.cuda()\n",
    "        data, target = Variable(data), Variable(target)\n",
    "        output = model(data)\n",
    "        test_loss += F.cross_entropy(output, target, size_average=False).data[0] # sum up batch loss\n",
    "        pred = output.data.max(1, keepdim=True)[1] # get the index of the max log-probability\n",
    "        correct += pred.eq(target.data.view_as(pred)).cpu().sum()\n",
    "\n",
    "    test_loss /= len(test_loader.dataset)\n",
    "    print('\\nTest set: Average loss: {:.4f}, Accuracy: {}/{} ({:.3f}%)\\n'.format(\n",
    "        test_loss, correct, len(test_loader.dataset),\n",
    "        100. * correct / len(test_loader.dataset)))\n",
    "    \n",
    "    return 100. * correct / len(test_loader.dataset), test_loss"
   ]
  },
  {
   "cell_type": "markdown",
   "metadata": {},
   "source": [
    "### Prepare for plotting"
   ]
  },
  {
   "cell_type": "code",
   "execution_count": 26,
   "metadata": {
    "collapsed": true
   },
   "outputs": [],
   "source": [
    "def save_accuracy(i, output, target, save_in):\n",
    "    pred = output.data.max(1, keepdim=True)[1] # get the index of the max log-probability\n",
    "    correct = pred.eq(target.data.view_as(pred)).cpu().sum()\n",
    "    save_in.append(100. * correct / len(output))\n",
    "    \n",
    "def get_save_acc_in(save_in):\n",
    "    return lambda x, y, z: save_accuracy(x, y, z, save_in)"
   ]
  },
  {
   "cell_type": "code",
   "execution_count": 27,
   "metadata": {},
   "outputs": [
    {
     "name": "stdout",
     "output_type": "stream",
     "text": [
      "Train Epoch: 1 [128/16000 (1%)]\tLoss: 2.372820\n",
      "Train Epoch: 1 [256/16000 (2%)]\tLoss: 2.519730\n",
      "Train Epoch: 1 [384/16000 (2%)]\tLoss: 2.392068\n",
      "Train Epoch: 1 [512/16000 (3%)]\tLoss: 2.003712\n",
      "Train Epoch: 1 [640/16000 (4%)]\tLoss: 1.940548\n",
      "Train Epoch: 1 [768/16000 (5%)]\tLoss: 1.877185\n",
      "Train Epoch: 1 [896/16000 (6%)]\tLoss: 1.720561\n",
      "Train Epoch: 1 [1024/16000 (6%)]\tLoss: 1.524794\n",
      "Train Epoch: 1 [1152/16000 (7%)]\tLoss: 1.521416\n",
      "Train Epoch: 1 [1280/16000 (8%)]\tLoss: 1.328659\n",
      "Train Epoch: 1 [1408/16000 (9%)]\tLoss: 1.263511\n",
      "Train Epoch: 1 [1536/16000 (10%)]\tLoss: 1.055648\n",
      "Train Epoch: 1 [1664/16000 (10%)]\tLoss: 1.048292\n",
      "Train Epoch: 1 [1792/16000 (11%)]\tLoss: 0.981282\n",
      "Train Epoch: 1 [1920/16000 (12%)]\tLoss: 0.894886\n",
      "Train Epoch: 1 [2048/16000 (13%)]\tLoss: 0.788530\n",
      "Train Epoch: 1 [2176/16000 (14%)]\tLoss: 0.627101\n",
      "Train Epoch: 1 [2304/16000 (14%)]\tLoss: 0.677232\n",
      "Train Epoch: 1 [2432/16000 (15%)]\tLoss: 0.668166\n",
      "Train Epoch: 1 [2560/16000 (16%)]\tLoss: 0.572509\n",
      "Train Epoch: 1 [2688/16000 (17%)]\tLoss: 0.542363\n",
      "Train Epoch: 1 [2816/16000 (18%)]\tLoss: 0.452623\n",
      "Train Epoch: 1 [2944/16000 (18%)]\tLoss: 0.490962\n",
      "Train Epoch: 1 [3072/16000 (19%)]\tLoss: 0.373747\n",
      "Train Epoch: 1 [3200/16000 (20%)]\tLoss: 0.304530\n",
      "Train Epoch: 1 [3328/16000 (21%)]\tLoss: 0.501987\n",
      "Train Epoch: 1 [3456/16000 (22%)]\tLoss: 0.281693\n",
      "Train Epoch: 1 [3584/16000 (22%)]\tLoss: 0.326537\n",
      "Train Epoch: 1 [3712/16000 (23%)]\tLoss: 0.317427\n",
      "Train Epoch: 1 [3840/16000 (24%)]\tLoss: 0.341558\n",
      "Train Epoch: 1 [3968/16000 (25%)]\tLoss: 0.312138\n",
      "Train Epoch: 1 [4096/16000 (26%)]\tLoss: 0.344611\n",
      "Train Epoch: 1 [4224/16000 (26%)]\tLoss: 0.279287\n",
      "Train Epoch: 1 [4352/16000 (27%)]\tLoss: 0.210204\n",
      "Train Epoch: 1 [4480/16000 (28%)]\tLoss: 0.365586\n",
      "Train Epoch: 1 [4608/16000 (29%)]\tLoss: 0.391323\n",
      "Train Epoch: 1 [4736/16000 (30%)]\tLoss: 0.215687\n",
      "Train Epoch: 1 [4864/16000 (30%)]\tLoss: 0.152567\n",
      "Train Epoch: 1 [4992/16000 (31%)]\tLoss: 0.223704\n",
      "Train Epoch: 1 [5120/16000 (32%)]\tLoss: 0.221664\n",
      "Train Epoch: 1 [5248/16000 (33%)]\tLoss: 0.228178\n",
      "Train Epoch: 1 [5376/16000 (34%)]\tLoss: 0.177298\n",
      "Train Epoch: 1 [5504/16000 (34%)]\tLoss: 0.132914\n",
      "Train Epoch: 1 [5632/16000 (35%)]\tLoss: 0.121991\n",
      "Train Epoch: 1 [5760/16000 (36%)]\tLoss: 0.213848\n",
      "Train Epoch: 1 [5888/16000 (37%)]\tLoss: 0.270576\n",
      "Train Epoch: 1 [6016/16000 (38%)]\tLoss: 0.144435\n",
      "Train Epoch: 1 [6144/16000 (38%)]\tLoss: 0.245544\n",
      "Train Epoch: 1 [6272/16000 (39%)]\tLoss: 0.207128\n",
      "Train Epoch: 1 [6400/16000 (40%)]\tLoss: 0.184085\n",
      "Train Epoch: 1 [6528/16000 (41%)]\tLoss: 0.147163\n",
      "Train Epoch: 1 [6656/16000 (42%)]\tLoss: 0.105847\n",
      "Train Epoch: 1 [6784/16000 (42%)]\tLoss: 0.230814\n",
      "Train Epoch: 1 [6912/16000 (43%)]\tLoss: 0.193393\n",
      "Train Epoch: 1 [7040/16000 (44%)]\tLoss: 0.201661\n",
      "Train Epoch: 1 [7168/16000 (45%)]\tLoss: 0.133797\n",
      "Train Epoch: 1 [7296/16000 (46%)]\tLoss: 0.072463\n",
      "Train Epoch: 1 [7424/16000 (46%)]\tLoss: 0.301472\n",
      "Train Epoch: 1 [7552/16000 (47%)]\tLoss: 0.041583\n",
      "Train Epoch: 1 [7680/16000 (48%)]\tLoss: 0.094310\n",
      "Train Epoch: 1 [7808/16000 (49%)]\tLoss: 0.242383\n",
      "Train Epoch: 1 [7936/16000 (50%)]\tLoss: 0.161148\n",
      "Train Epoch: 1 [8064/16000 (50%)]\tLoss: 0.155266\n",
      "Train Epoch: 1 [8192/16000 (51%)]\tLoss: 0.084247\n",
      "Train Epoch: 1 [8320/16000 (52%)]\tLoss: 0.144436\n",
      "Train Epoch: 1 [8448/16000 (53%)]\tLoss: 0.220874\n",
      "Train Epoch: 1 [8576/16000 (54%)]\tLoss: 0.178252\n",
      "Train Epoch: 1 [8704/16000 (54%)]\tLoss: 0.109374\n",
      "Train Epoch: 1 [8832/16000 (55%)]\tLoss: 0.076852\n",
      "Train Epoch: 1 [8960/16000 (56%)]\tLoss: 0.121888\n",
      "Train Epoch: 1 [9088/16000 (57%)]\tLoss: 0.045498\n",
      "Train Epoch: 1 [9216/16000 (58%)]\tLoss: 0.122993\n",
      "Train Epoch: 1 [9344/16000 (58%)]\tLoss: 0.048600\n",
      "Train Epoch: 1 [9472/16000 (59%)]\tLoss: 0.215909\n",
      "Train Epoch: 1 [9600/16000 (60%)]\tLoss: 0.059505\n",
      "Train Epoch: 1 [9728/16000 (61%)]\tLoss: 0.113513\n",
      "Train Epoch: 1 [9856/16000 (62%)]\tLoss: 0.111953\n",
      "Train Epoch: 1 [9984/16000 (62%)]\tLoss: 0.106101\n",
      "Train Epoch: 1 [10112/16000 (63%)]\tLoss: 0.105650\n",
      "Train Epoch: 1 [10240/16000 (64%)]\tLoss: 0.097642\n",
      "Train Epoch: 1 [10368/16000 (65%)]\tLoss: 0.119699\n",
      "Train Epoch: 1 [10496/16000 (66%)]\tLoss: 0.174470\n",
      "Train Epoch: 1 [10624/16000 (66%)]\tLoss: 0.061806\n",
      "Train Epoch: 1 [10752/16000 (67%)]\tLoss: 0.119239\n",
      "Train Epoch: 1 [10880/16000 (68%)]\tLoss: 0.064228\n",
      "Train Epoch: 1 [11008/16000 (69%)]\tLoss: 0.103232\n",
      "Train Epoch: 1 [11136/16000 (70%)]\tLoss: 0.097695\n",
      "Train Epoch: 1 [11264/16000 (70%)]\tLoss: 0.100378\n",
      "Train Epoch: 1 [11392/16000 (71%)]\tLoss: 0.079890\n",
      "Train Epoch: 1 [11520/16000 (72%)]\tLoss: 0.109870\n",
      "Train Epoch: 1 [11648/16000 (73%)]\tLoss: 0.065465\n",
      "Train Epoch: 1 [11776/16000 (74%)]\tLoss: 0.074740\n",
      "Train Epoch: 1 [11904/16000 (74%)]\tLoss: 0.168325\n",
      "Train Epoch: 1 [12032/16000 (75%)]\tLoss: 0.067759\n",
      "Train Epoch: 1 [12160/16000 (76%)]\tLoss: 0.073089\n",
      "Train Epoch: 1 [12288/16000 (77%)]\tLoss: 0.097468\n",
      "Train Epoch: 1 [12416/16000 (78%)]\tLoss: 0.128635\n",
      "Train Epoch: 1 [12544/16000 (78%)]\tLoss: 0.103840\n",
      "Train Epoch: 1 [12672/16000 (79%)]\tLoss: 0.098823\n",
      "Train Epoch: 1 [12800/16000 (80%)]\tLoss: 0.080631\n",
      "Train Epoch: 1 [12928/16000 (81%)]\tLoss: 0.032556\n",
      "Train Epoch: 1 [13056/16000 (82%)]\tLoss: 0.084030\n",
      "Train Epoch: 1 [13184/16000 (82%)]\tLoss: 0.079090\n",
      "Train Epoch: 1 [13312/16000 (83%)]\tLoss: 0.088829\n",
      "Train Epoch: 1 [13440/16000 (84%)]\tLoss: 0.116226\n",
      "Train Epoch: 1 [13568/16000 (85%)]\tLoss: 0.059042\n",
      "Train Epoch: 1 [13696/16000 (86%)]\tLoss: 0.071768\n",
      "Train Epoch: 1 [13824/16000 (86%)]\tLoss: 0.058125\n",
      "Train Epoch: 1 [13952/16000 (87%)]\tLoss: 0.064577\n",
      "Train Epoch: 1 [14080/16000 (88%)]\tLoss: 0.069783\n",
      "Train Epoch: 1 [14208/16000 (89%)]\tLoss: 0.065797\n",
      "Train Epoch: 1 [14336/16000 (90%)]\tLoss: 0.102543\n",
      "Train Epoch: 1 [14464/16000 (90%)]\tLoss: 0.129437\n",
      "Train Epoch: 1 [14592/16000 (91%)]\tLoss: 0.118802\n",
      "Train Epoch: 1 [14720/16000 (92%)]\tLoss: 0.136071\n",
      "Train Epoch: 1 [14848/16000 (93%)]\tLoss: 0.112190\n",
      "Train Epoch: 1 [14976/16000 (94%)]\tLoss: 0.173879\n",
      "Train Epoch: 1 [15104/16000 (94%)]\tLoss: 0.027772\n",
      "Train Epoch: 1 [15232/16000 (95%)]\tLoss: 0.067335\n",
      "Train Epoch: 1 [15360/16000 (96%)]\tLoss: 0.107779\n",
      "Train Epoch: 1 [15488/16000 (97%)]\tLoss: 0.105806\n",
      "Train Epoch: 1 [15616/16000 (98%)]\tLoss: 0.109392\n",
      "Train Epoch: 1 [15744/16000 (98%)]\tLoss: 0.225322\n",
      "Train Epoch: 1 [15872/16000 (99%)]\tLoss: 0.163851\n",
      "Train Epoch: 1 [16000/16000 (100%)]\tLoss: 0.100346\n",
      "\n",
      "Test set: Average loss: 0.0835, Accuracy: 3890/4000 (97.250%)\n",
      "\n",
      "Train Epoch: 2 [128/16000 (1%)]\tLoss: 0.092496\n",
      "Train Epoch: 2 [256/16000 (2%)]\tLoss: 0.082931\n",
      "Train Epoch: 2 [384/16000 (2%)]\tLoss: 0.045090\n",
      "Train Epoch: 2 [512/16000 (3%)]\tLoss: 0.123738\n",
      "Train Epoch: 2 [640/16000 (4%)]\tLoss: 0.112914\n",
      "Train Epoch: 2 [768/16000 (5%)]\tLoss: 0.076554\n",
      "Train Epoch: 2 [896/16000 (6%)]\tLoss: 0.140409\n",
      "Train Epoch: 2 [1024/16000 (6%)]\tLoss: 0.106100\n",
      "Train Epoch: 2 [1152/16000 (7%)]\tLoss: 0.052766\n",
      "Train Epoch: 2 [1280/16000 (8%)]\tLoss: 0.067156\n",
      "Train Epoch: 2 [1408/16000 (9%)]\tLoss: 0.124675\n",
      "Train Epoch: 2 [1536/16000 (10%)]\tLoss: 0.150932\n",
      "Train Epoch: 2 [1664/16000 (10%)]\tLoss: 0.159575\n",
      "Train Epoch: 2 [1792/16000 (11%)]\tLoss: 0.102999\n",
      "Train Epoch: 2 [1920/16000 (12%)]\tLoss: 0.035730\n",
      "Train Epoch: 2 [2048/16000 (13%)]\tLoss: 0.087277\n",
      "Train Epoch: 2 [2176/16000 (14%)]\tLoss: 0.096666\n",
      "Train Epoch: 2 [2304/16000 (14%)]\tLoss: 0.168819\n",
      "Train Epoch: 2 [2432/16000 (15%)]\tLoss: 0.072105\n",
      "Train Epoch: 2 [2560/16000 (16%)]\tLoss: 0.116706\n",
      "Train Epoch: 2 [2688/16000 (17%)]\tLoss: 0.039151\n",
      "Train Epoch: 2 [2816/16000 (18%)]\tLoss: 0.080200\n",
      "Train Epoch: 2 [2944/16000 (18%)]\tLoss: 0.136946\n",
      "Train Epoch: 2 [3072/16000 (19%)]\tLoss: 0.091040\n",
      "Train Epoch: 2 [3200/16000 (20%)]\tLoss: 0.073590\n",
      "Train Epoch: 2 [3328/16000 (21%)]\tLoss: 0.151751\n",
      "Train Epoch: 2 [3456/16000 (22%)]\tLoss: 0.092150\n",
      "Train Epoch: 2 [3584/16000 (22%)]\tLoss: 0.101891\n",
      "Train Epoch: 2 [3712/16000 (23%)]\tLoss: 0.087976\n",
      "Train Epoch: 2 [3840/16000 (24%)]\tLoss: 0.074212\n",
      "Train Epoch: 2 [3968/16000 (25%)]\tLoss: 0.158956\n",
      "Train Epoch: 2 [4096/16000 (26%)]\tLoss: 0.207274\n",
      "Train Epoch: 2 [4224/16000 (26%)]\tLoss: 0.077961\n",
      "Train Epoch: 2 [4352/16000 (27%)]\tLoss: 0.109059\n",
      "Train Epoch: 2 [4480/16000 (28%)]\tLoss: 0.116878\n",
      "Train Epoch: 2 [4608/16000 (29%)]\tLoss: 0.104744\n",
      "Train Epoch: 2 [4736/16000 (30%)]\tLoss: 0.121440\n",
      "Train Epoch: 2 [4864/16000 (30%)]\tLoss: 0.097988\n",
      "Train Epoch: 2 [4992/16000 (31%)]\tLoss: 0.120661\n",
      "Train Epoch: 2 [5120/16000 (32%)]\tLoss: 0.133532\n",
      "Train Epoch: 2 [5248/16000 (33%)]\tLoss: 0.031361\n"
     ]
    },
    {
     "name": "stdout",
     "output_type": "stream",
     "text": [
      "Train Epoch: 2 [5376/16000 (34%)]\tLoss: 0.171814\n",
      "Train Epoch: 2 [5504/16000 (34%)]\tLoss: 0.172364\n",
      "Train Epoch: 2 [5632/16000 (35%)]\tLoss: 0.137208\n",
      "Train Epoch: 2 [5760/16000 (36%)]\tLoss: 0.075705\n",
      "Train Epoch: 2 [5888/16000 (37%)]\tLoss: 0.094368\n",
      "Train Epoch: 2 [6016/16000 (38%)]\tLoss: 0.085913\n",
      "Train Epoch: 2 [6144/16000 (38%)]\tLoss: 0.057605\n",
      "Train Epoch: 2 [6272/16000 (39%)]\tLoss: 0.053945\n",
      "Train Epoch: 2 [6400/16000 (40%)]\tLoss: 0.094718\n",
      "Train Epoch: 2 [6528/16000 (41%)]\tLoss: 0.068497\n",
      "Train Epoch: 2 [6656/16000 (42%)]\tLoss: 0.110919\n",
      "Train Epoch: 2 [6784/16000 (42%)]\tLoss: 0.103406\n",
      "Train Epoch: 2 [6912/16000 (43%)]\tLoss: 0.043269\n",
      "Train Epoch: 2 [7040/16000 (44%)]\tLoss: 0.129257\n",
      "Train Epoch: 2 [7168/16000 (45%)]\tLoss: 0.102471\n",
      "Train Epoch: 2 [7296/16000 (46%)]\tLoss: 0.094840\n",
      "Train Epoch: 2 [7424/16000 (46%)]\tLoss: 0.066039\n",
      "Train Epoch: 2 [7552/16000 (47%)]\tLoss: 0.065311\n",
      "Train Epoch: 2 [7680/16000 (48%)]\tLoss: 0.095285\n",
      "Train Epoch: 2 [7808/16000 (49%)]\tLoss: 0.049202\n",
      "Train Epoch: 2 [7936/16000 (50%)]\tLoss: 0.063065\n",
      "Train Epoch: 2 [8064/16000 (50%)]\tLoss: 0.022506\n",
      "Train Epoch: 2 [8192/16000 (51%)]\tLoss: 0.044557\n",
      "Train Epoch: 2 [8320/16000 (52%)]\tLoss: 0.028093\n",
      "Train Epoch: 2 [8448/16000 (53%)]\tLoss: 0.123330\n",
      "Train Epoch: 2 [8576/16000 (54%)]\tLoss: 0.061161\n",
      "Train Epoch: 2 [8704/16000 (54%)]\tLoss: 0.054504\n",
      "Train Epoch: 2 [8832/16000 (55%)]\tLoss: 0.134043\n",
      "Train Epoch: 2 [8960/16000 (56%)]\tLoss: 0.109858\n",
      "Train Epoch: 2 [9088/16000 (57%)]\tLoss: 0.195609\n",
      "Train Epoch: 2 [9216/16000 (58%)]\tLoss: 0.097127\n",
      "Train Epoch: 2 [9344/16000 (58%)]\tLoss: 0.056844\n",
      "Train Epoch: 2 [9472/16000 (59%)]\tLoss: 0.066741\n",
      "Train Epoch: 2 [9600/16000 (60%)]\tLoss: 0.200078\n",
      "Train Epoch: 2 [9728/16000 (61%)]\tLoss: 0.091896\n",
      "Train Epoch: 2 [9856/16000 (62%)]\tLoss: 0.161421\n",
      "Train Epoch: 2 [9984/16000 (62%)]\tLoss: 0.026830\n",
      "Train Epoch: 2 [10112/16000 (63%)]\tLoss: 0.066395\n",
      "Train Epoch: 2 [10240/16000 (64%)]\tLoss: 0.117157\n",
      "Train Epoch: 2 [10368/16000 (65%)]\tLoss: 0.037610\n",
      "Train Epoch: 2 [10496/16000 (66%)]\tLoss: 0.070734\n",
      "Train Epoch: 2 [10624/16000 (66%)]\tLoss: 0.021098\n",
      "Train Epoch: 2 [10752/16000 (67%)]\tLoss: 0.074805\n",
      "Train Epoch: 2 [10880/16000 (68%)]\tLoss: 0.057680\n",
      "Train Epoch: 2 [11008/16000 (69%)]\tLoss: 0.047125\n",
      "Train Epoch: 2 [11136/16000 (70%)]\tLoss: 0.073596\n",
      "Train Epoch: 2 [11264/16000 (70%)]\tLoss: 0.035962\n",
      "Train Epoch: 2 [11392/16000 (71%)]\tLoss: 0.148057\n",
      "Train Epoch: 2 [11520/16000 (72%)]\tLoss: 0.054489\n",
      "Train Epoch: 2 [11648/16000 (73%)]\tLoss: 0.027791\n",
      "Train Epoch: 2 [11776/16000 (74%)]\tLoss: 0.096872\n",
      "Train Epoch: 2 [11904/16000 (74%)]\tLoss: 0.042221\n",
      "Train Epoch: 2 [12032/16000 (75%)]\tLoss: 0.059452\n",
      "Train Epoch: 2 [12160/16000 (76%)]\tLoss: 0.032808\n",
      "Train Epoch: 2 [12288/16000 (77%)]\tLoss: 0.055468\n",
      "Train Epoch: 2 [12416/16000 (78%)]\tLoss: 0.016943\n",
      "Train Epoch: 2 [12544/16000 (78%)]\tLoss: 0.030144\n",
      "Train Epoch: 2 [12672/16000 (79%)]\tLoss: 0.047989\n",
      "Train Epoch: 2 [12800/16000 (80%)]\tLoss: 0.008007\n",
      "Train Epoch: 2 [12928/16000 (81%)]\tLoss: 0.027106\n",
      "Train Epoch: 2 [13056/16000 (82%)]\tLoss: 0.099044\n",
      "Train Epoch: 2 [13184/16000 (82%)]\tLoss: 0.100949\n",
      "Train Epoch: 2 [13312/16000 (83%)]\tLoss: 0.073283\n",
      "Train Epoch: 2 [13440/16000 (84%)]\tLoss: 0.016762\n",
      "Train Epoch: 2 [13568/16000 (85%)]\tLoss: 0.092188\n",
      "Train Epoch: 2 [13696/16000 (86%)]\tLoss: 0.080525\n",
      "Train Epoch: 2 [13824/16000 (86%)]\tLoss: 0.065140\n",
      "Train Epoch: 2 [13952/16000 (87%)]\tLoss: 0.026087\n",
      "Train Epoch: 2 [14080/16000 (88%)]\tLoss: 0.010911\n",
      "Train Epoch: 2 [14208/16000 (89%)]\tLoss: 0.099125\n",
      "Train Epoch: 2 [14336/16000 (90%)]\tLoss: 0.058034\n",
      "Train Epoch: 2 [14464/16000 (90%)]\tLoss: 0.115456\n",
      "Train Epoch: 2 [14592/16000 (91%)]\tLoss: 0.093828\n",
      "Train Epoch: 2 [14720/16000 (92%)]\tLoss: 0.108117\n",
      "Train Epoch: 2 [14848/16000 (93%)]\tLoss: 0.012341\n",
      "Train Epoch: 2 [14976/16000 (94%)]\tLoss: 0.082070\n",
      "Train Epoch: 2 [15104/16000 (94%)]\tLoss: 0.112712\n",
      "Train Epoch: 2 [15232/16000 (95%)]\tLoss: 0.140941\n",
      "Train Epoch: 2 [15360/16000 (96%)]\tLoss: 0.037417\n",
      "Train Epoch: 2 [15488/16000 (97%)]\tLoss: 0.016917\n",
      "Train Epoch: 2 [15616/16000 (98%)]\tLoss: 0.023776\n",
      "Train Epoch: 2 [15744/16000 (98%)]\tLoss: 0.103006\n",
      "Train Epoch: 2 [15872/16000 (99%)]\tLoss: 0.044397\n",
      "Train Epoch: 2 [16000/16000 (100%)]\tLoss: 0.060503\n",
      "\n",
      "Test set: Average loss: 0.0740, Accuracy: 3906/4000 (97.650%)\n",
      "\n",
      "Train Epoch: 3 [128/16000 (1%)]\tLoss: 0.014084\n",
      "Train Epoch: 3 [256/16000 (2%)]\tLoss: 0.064357\n",
      "Train Epoch: 3 [384/16000 (2%)]\tLoss: 0.063653\n",
      "Train Epoch: 3 [512/16000 (3%)]\tLoss: 0.021302\n",
      "Train Epoch: 3 [640/16000 (4%)]\tLoss: 0.051495\n",
      "Train Epoch: 3 [768/16000 (5%)]\tLoss: 0.063850\n",
      "Train Epoch: 3 [896/16000 (6%)]\tLoss: 0.018684\n",
      "Train Epoch: 3 [1024/16000 (6%)]\tLoss: 0.046975\n",
      "Train Epoch: 3 [1152/16000 (7%)]\tLoss: 0.029093\n",
      "Train Epoch: 3 [1280/16000 (8%)]\tLoss: 0.024325\n",
      "Train Epoch: 3 [1408/16000 (9%)]\tLoss: 0.033718\n",
      "Train Epoch: 3 [1536/16000 (10%)]\tLoss: 0.066364\n",
      "Train Epoch: 3 [1664/16000 (10%)]\tLoss: 0.034673\n",
      "Train Epoch: 3 [1792/16000 (11%)]\tLoss: 0.026600\n",
      "Train Epoch: 3 [1920/16000 (12%)]\tLoss: 0.030205\n",
      "Train Epoch: 3 [2048/16000 (13%)]\tLoss: 0.079057\n",
      "Train Epoch: 3 [2176/16000 (14%)]\tLoss: 0.057595\n",
      "Train Epoch: 3 [2304/16000 (14%)]\tLoss: 0.089060\n",
      "Train Epoch: 3 [2432/16000 (15%)]\tLoss: 0.039101\n",
      "Train Epoch: 3 [2560/16000 (16%)]\tLoss: 0.028968\n",
      "Train Epoch: 3 [2688/16000 (17%)]\tLoss: 0.047745\n",
      "Train Epoch: 3 [2816/16000 (18%)]\tLoss: 0.096391\n",
      "Train Epoch: 3 [2944/16000 (18%)]\tLoss: 0.017868\n",
      "Train Epoch: 3 [3072/16000 (19%)]\tLoss: 0.040669\n",
      "Train Epoch: 3 [3200/16000 (20%)]\tLoss: 0.090108\n",
      "Train Epoch: 3 [3328/16000 (21%)]\tLoss: 0.032463\n",
      "Train Epoch: 3 [3456/16000 (22%)]\tLoss: 0.014839\n",
      "Train Epoch: 3 [3584/16000 (22%)]\tLoss: 0.059426\n",
      "Train Epoch: 3 [3712/16000 (23%)]\tLoss: 0.036504\n",
      "Train Epoch: 3 [3840/16000 (24%)]\tLoss: 0.088228\n",
      "Train Epoch: 3 [3968/16000 (25%)]\tLoss: 0.012739\n",
      "Train Epoch: 3 [4096/16000 (26%)]\tLoss: 0.155714\n",
      "Train Epoch: 3 [4224/16000 (26%)]\tLoss: 0.046513\n",
      "Train Epoch: 3 [4352/16000 (27%)]\tLoss: 0.032263\n",
      "Train Epoch: 3 [4480/16000 (28%)]\tLoss: 0.037244\n",
      "Train Epoch: 3 [4608/16000 (29%)]\tLoss: 0.066130\n",
      "Train Epoch: 3 [4736/16000 (30%)]\tLoss: 0.031163\n",
      "Train Epoch: 3 [4864/16000 (30%)]\tLoss: 0.046809\n",
      "Train Epoch: 3 [4992/16000 (31%)]\tLoss: 0.034363\n",
      "Train Epoch: 3 [5120/16000 (32%)]\tLoss: 0.060831\n",
      "Train Epoch: 3 [5248/16000 (33%)]\tLoss: 0.045455\n",
      "Train Epoch: 3 [5376/16000 (34%)]\tLoss: 0.067031\n",
      "Train Epoch: 3 [5504/16000 (34%)]\tLoss: 0.087617\n",
      "Train Epoch: 3 [5632/16000 (35%)]\tLoss: 0.033565\n",
      "Train Epoch: 3 [5760/16000 (36%)]\tLoss: 0.020651\n",
      "Train Epoch: 3 [5888/16000 (37%)]\tLoss: 0.016789\n",
      "Train Epoch: 3 [6016/16000 (38%)]\tLoss: 0.060268\n",
      "Train Epoch: 3 [6144/16000 (38%)]\tLoss: 0.090873\n",
      "Train Epoch: 3 [6272/16000 (39%)]\tLoss: 0.068010\n",
      "Train Epoch: 3 [6400/16000 (40%)]\tLoss: 0.038962\n",
      "Train Epoch: 3 [6528/16000 (41%)]\tLoss: 0.092208\n",
      "Train Epoch: 3 [6656/16000 (42%)]\tLoss: 0.010415\n",
      "Train Epoch: 3 [6784/16000 (42%)]\tLoss: 0.010666\n",
      "Train Epoch: 3 [6912/16000 (43%)]\tLoss: 0.065648\n",
      "Train Epoch: 3 [7040/16000 (44%)]\tLoss: 0.007849\n",
      "Train Epoch: 3 [7168/16000 (45%)]\tLoss: 0.008025\n",
      "Train Epoch: 3 [7296/16000 (46%)]\tLoss: 0.031573\n",
      "Train Epoch: 3 [7424/16000 (46%)]\tLoss: 0.096707\n",
      "Train Epoch: 3 [7552/16000 (47%)]\tLoss: 0.028382\n",
      "Train Epoch: 3 [7680/16000 (48%)]\tLoss: 0.096125\n",
      "Train Epoch: 3 [7808/16000 (49%)]\tLoss: 0.003888\n",
      "Train Epoch: 3 [7936/16000 (50%)]\tLoss: 0.014099\n",
      "Train Epoch: 3 [8064/16000 (50%)]\tLoss: 0.017200\n",
      "Train Epoch: 3 [8192/16000 (51%)]\tLoss: 0.072327\n",
      "Train Epoch: 3 [8320/16000 (52%)]\tLoss: 0.056588\n",
      "Train Epoch: 3 [8448/16000 (53%)]\tLoss: 0.069556\n",
      "Train Epoch: 3 [8576/16000 (54%)]\tLoss: 0.033245\n",
      "Train Epoch: 3 [8704/16000 (54%)]\tLoss: 0.008618\n",
      "Train Epoch: 3 [8832/16000 (55%)]\tLoss: 0.060342\n",
      "Train Epoch: 3 [8960/16000 (56%)]\tLoss: 0.090305\n",
      "Train Epoch: 3 [9088/16000 (57%)]\tLoss: 0.054884\n",
      "Train Epoch: 3 [9216/16000 (58%)]\tLoss: 0.054181\n",
      "Train Epoch: 3 [9344/16000 (58%)]\tLoss: 0.026341\n",
      "Train Epoch: 3 [9472/16000 (59%)]\tLoss: 0.018142\n",
      "Train Epoch: 3 [9600/16000 (60%)]\tLoss: 0.042478\n",
      "Train Epoch: 3 [9728/16000 (61%)]\tLoss: 0.028025\n",
      "Train Epoch: 3 [9856/16000 (62%)]\tLoss: 0.054433\n",
      "Train Epoch: 3 [9984/16000 (62%)]\tLoss: 0.017677\n",
      "Train Epoch: 3 [10112/16000 (63%)]\tLoss: 0.078947\n",
      "Train Epoch: 3 [10240/16000 (64%)]\tLoss: 0.034614\n",
      "Train Epoch: 3 [10368/16000 (65%)]\tLoss: 0.039367\n",
      "Train Epoch: 3 [10496/16000 (66%)]\tLoss: 0.042867\n"
     ]
    },
    {
     "name": "stdout",
     "output_type": "stream",
     "text": [
      "Train Epoch: 3 [10624/16000 (66%)]\tLoss: 0.019211\n",
      "Train Epoch: 3 [10752/16000 (67%)]\tLoss: 0.035296\n",
      "Train Epoch: 3 [10880/16000 (68%)]\tLoss: 0.151893\n",
      "Train Epoch: 3 [11008/16000 (69%)]\tLoss: 0.013276\n",
      "Train Epoch: 3 [11136/16000 (70%)]\tLoss: 0.021928\n",
      "Train Epoch: 3 [11264/16000 (70%)]\tLoss: 0.082638\n",
      "Train Epoch: 3 [11392/16000 (71%)]\tLoss: 0.015543\n",
      "Train Epoch: 3 [11520/16000 (72%)]\tLoss: 0.034050\n",
      "Train Epoch: 3 [11648/16000 (73%)]\tLoss: 0.021545\n",
      "Train Epoch: 3 [11776/16000 (74%)]\tLoss: 0.120240\n",
      "Train Epoch: 3 [11904/16000 (74%)]\tLoss: 0.008824\n",
      "Train Epoch: 3 [12032/16000 (75%)]\tLoss: 0.177029\n",
      "Train Epoch: 3 [12160/16000 (76%)]\tLoss: 0.026438\n",
      "Train Epoch: 3 [12288/16000 (77%)]\tLoss: 0.021786\n",
      "Train Epoch: 3 [12416/16000 (78%)]\tLoss: 0.025242\n",
      "Train Epoch: 3 [12544/16000 (78%)]\tLoss: 0.048206\n",
      "Train Epoch: 3 [12672/16000 (79%)]\tLoss: 0.082530\n",
      "Train Epoch: 3 [12800/16000 (80%)]\tLoss: 0.013871\n",
      "Train Epoch: 3 [12928/16000 (81%)]\tLoss: 0.040229\n",
      "Train Epoch: 3 [13056/16000 (82%)]\tLoss: 0.144162\n",
      "Train Epoch: 3 [13184/16000 (82%)]\tLoss: 0.036332\n",
      "Train Epoch: 3 [13312/16000 (83%)]\tLoss: 0.085656\n",
      "Train Epoch: 3 [13440/16000 (84%)]\tLoss: 0.022501\n",
      "Train Epoch: 3 [13568/16000 (85%)]\tLoss: 0.053455\n",
      "Train Epoch: 3 [13696/16000 (86%)]\tLoss: 0.076373\n",
      "Train Epoch: 3 [13824/16000 (86%)]\tLoss: 0.075142\n",
      "Train Epoch: 3 [13952/16000 (87%)]\tLoss: 0.017630\n",
      "Train Epoch: 3 [14080/16000 (88%)]\tLoss: 0.082635\n",
      "Train Epoch: 3 [14208/16000 (89%)]\tLoss: 0.038781\n",
      "Train Epoch: 3 [14336/16000 (90%)]\tLoss: 0.086727\n",
      "Train Epoch: 3 [14464/16000 (90%)]\tLoss: 0.082826\n",
      "Train Epoch: 3 [14592/16000 (91%)]\tLoss: 0.044714\n",
      "Train Epoch: 3 [14720/16000 (92%)]\tLoss: 0.052535\n",
      "Train Epoch: 3 [14848/16000 (93%)]\tLoss: 0.113600\n",
      "Train Epoch: 3 [14976/16000 (94%)]\tLoss: 0.075244\n",
      "Train Epoch: 3 [15104/16000 (94%)]\tLoss: 0.045271\n",
      "Train Epoch: 3 [15232/16000 (95%)]\tLoss: 0.020827\n",
      "Train Epoch: 3 [15360/16000 (96%)]\tLoss: 0.101828\n",
      "Train Epoch: 3 [15488/16000 (97%)]\tLoss: 0.061035\n",
      "Train Epoch: 3 [15616/16000 (98%)]\tLoss: 0.051971\n",
      "Train Epoch: 3 [15744/16000 (98%)]\tLoss: 0.087893\n",
      "Train Epoch: 3 [15872/16000 (99%)]\tLoss: 0.076860\n",
      "Train Epoch: 3 [16000/16000 (100%)]\tLoss: 0.074322\n",
      "\n",
      "Test set: Average loss: 0.0808, Accuracy: 3907/4000 (97.675%)\n",
      "\n",
      "Train Epoch: 4 [128/16000 (1%)]\tLoss: 0.076749\n",
      "Train Epoch: 4 [256/16000 (2%)]\tLoss: 0.020585\n",
      "Train Epoch: 4 [384/16000 (2%)]\tLoss: 0.019224\n",
      "Train Epoch: 4 [512/16000 (3%)]\tLoss: 0.087473\n",
      "Train Epoch: 4 [640/16000 (4%)]\tLoss: 0.045318\n",
      "Train Epoch: 4 [768/16000 (5%)]\tLoss: 0.055576\n",
      "Train Epoch: 4 [896/16000 (6%)]\tLoss: 0.064964\n",
      "Train Epoch: 4 [1024/16000 (6%)]\tLoss: 0.007099\n",
      "Train Epoch: 4 [1152/16000 (7%)]\tLoss: 0.012328\n",
      "Train Epoch: 4 [1280/16000 (8%)]\tLoss: 0.006700\n",
      "Train Epoch: 4 [1408/16000 (9%)]\tLoss: 0.025492\n",
      "Train Epoch: 4 [1536/16000 (10%)]\tLoss: 0.018555\n",
      "Train Epoch: 4 [1664/16000 (10%)]\tLoss: 0.011404\n",
      "Train Epoch: 4 [1792/16000 (11%)]\tLoss: 0.030719\n",
      "Train Epoch: 4 [1920/16000 (12%)]\tLoss: 0.107991\n",
      "Train Epoch: 4 [2048/16000 (13%)]\tLoss: 0.023686\n",
      "Train Epoch: 4 [2176/16000 (14%)]\tLoss: 0.025423\n",
      "Train Epoch: 4 [2304/16000 (14%)]\tLoss: 0.075779\n",
      "Train Epoch: 4 [2432/16000 (15%)]\tLoss: 0.015942\n",
      "Train Epoch: 4 [2560/16000 (16%)]\tLoss: 0.029764\n",
      "Train Epoch: 4 [2688/16000 (17%)]\tLoss: 0.080287\n",
      "Train Epoch: 4 [2816/16000 (18%)]\tLoss: 0.063383\n",
      "Train Epoch: 4 [2944/16000 (18%)]\tLoss: 0.033508\n",
      "Train Epoch: 4 [3072/16000 (19%)]\tLoss: 0.011292\n",
      "Train Epoch: 4 [3200/16000 (20%)]\tLoss: 0.053341\n",
      "Train Epoch: 4 [3328/16000 (21%)]\tLoss: 0.053951\n",
      "Train Epoch: 4 [3456/16000 (22%)]\tLoss: 0.019690\n",
      "Train Epoch: 4 [3584/16000 (22%)]\tLoss: 0.018063\n",
      "Train Epoch: 4 [3712/16000 (23%)]\tLoss: 0.040796\n",
      "Train Epoch: 4 [3840/16000 (24%)]\tLoss: 0.068883\n",
      "Train Epoch: 4 [3968/16000 (25%)]\tLoss: 0.039960\n",
      "Train Epoch: 4 [4096/16000 (26%)]\tLoss: 0.069499\n",
      "Train Epoch: 4 [4224/16000 (26%)]\tLoss: 0.057228\n",
      "Train Epoch: 4 [4352/16000 (27%)]\tLoss: 0.047397\n",
      "Train Epoch: 4 [4480/16000 (28%)]\tLoss: 0.071231\n",
      "Train Epoch: 4 [4608/16000 (29%)]\tLoss: 0.034434\n",
      "Train Epoch: 4 [4736/16000 (30%)]\tLoss: 0.039066\n",
      "Train Epoch: 4 [4864/16000 (30%)]\tLoss: 0.022236\n",
      "Train Epoch: 4 [4992/16000 (31%)]\tLoss: 0.010251\n",
      "Train Epoch: 4 [5120/16000 (32%)]\tLoss: 0.033486\n",
      "Train Epoch: 4 [5248/16000 (33%)]\tLoss: 0.017509\n",
      "Train Epoch: 4 [5376/16000 (34%)]\tLoss: 0.045406\n",
      "Train Epoch: 4 [5504/16000 (34%)]\tLoss: 0.012725\n",
      "Train Epoch: 4 [5632/16000 (35%)]\tLoss: 0.019278\n",
      "Train Epoch: 4 [5760/16000 (36%)]\tLoss: 0.078033\n",
      "Train Epoch: 4 [5888/16000 (37%)]\tLoss: 0.018433\n",
      "Train Epoch: 4 [6016/16000 (38%)]\tLoss: 0.008837\n",
      "Train Epoch: 4 [6144/16000 (38%)]\tLoss: 0.033293\n",
      "Train Epoch: 4 [6272/16000 (39%)]\tLoss: 0.041809\n",
      "Train Epoch: 4 [6400/16000 (40%)]\tLoss: 0.023618\n",
      "Train Epoch: 4 [6528/16000 (41%)]\tLoss: 0.016198\n",
      "Train Epoch: 4 [6656/16000 (42%)]\tLoss: 0.035194\n",
      "Train Epoch: 4 [6784/16000 (42%)]\tLoss: 0.046645\n",
      "Train Epoch: 4 [6912/16000 (43%)]\tLoss: 0.032670\n",
      "Train Epoch: 4 [7040/16000 (44%)]\tLoss: 0.005146\n",
      "Train Epoch: 4 [7168/16000 (45%)]\tLoss: 0.050232\n",
      "Train Epoch: 4 [7296/16000 (46%)]\tLoss: 0.032146\n",
      "Train Epoch: 4 [7424/16000 (46%)]\tLoss: 0.022705\n",
      "Train Epoch: 4 [7552/16000 (47%)]\tLoss: 0.014331\n",
      "Train Epoch: 4 [7680/16000 (48%)]\tLoss: 0.040904\n",
      "Train Epoch: 4 [7808/16000 (49%)]\tLoss: 0.021044\n",
      "Train Epoch: 4 [7936/16000 (50%)]\tLoss: 0.041482\n",
      "Train Epoch: 4 [8064/16000 (50%)]\tLoss: 0.016754\n",
      "Train Epoch: 4 [8192/16000 (51%)]\tLoss: 0.021849\n",
      "Train Epoch: 4 [8320/16000 (52%)]\tLoss: 0.030445\n",
      "Train Epoch: 4 [8448/16000 (53%)]\tLoss: 0.015281\n",
      "Train Epoch: 4 [8576/16000 (54%)]\tLoss: 0.066547\n",
      "Train Epoch: 4 [8704/16000 (54%)]\tLoss: 0.039197\n",
      "Train Epoch: 4 [8832/16000 (55%)]\tLoss: 0.008785\n",
      "Train Epoch: 4 [8960/16000 (56%)]\tLoss: 0.016181\n",
      "Train Epoch: 4 [9088/16000 (57%)]\tLoss: 0.006352\n",
      "Train Epoch: 4 [9216/16000 (58%)]\tLoss: 0.040633\n",
      "Train Epoch: 4 [9344/16000 (58%)]\tLoss: 0.024941\n",
      "Train Epoch: 4 [9472/16000 (59%)]\tLoss: 0.041507\n",
      "Train Epoch: 4 [9600/16000 (60%)]\tLoss: 0.025402\n",
      "Train Epoch: 4 [9728/16000 (61%)]\tLoss: 0.031050\n",
      "Train Epoch: 4 [9856/16000 (62%)]\tLoss: 0.013659\n",
      "Train Epoch: 4 [9984/16000 (62%)]\tLoss: 0.014761\n",
      "Train Epoch: 4 [10112/16000 (63%)]\tLoss: 0.050126\n",
      "Train Epoch: 4 [10240/16000 (64%)]\tLoss: 0.099556\n",
      "Train Epoch: 4 [10368/16000 (65%)]\tLoss: 0.013687\n",
      "Train Epoch: 4 [10496/16000 (66%)]\tLoss: 0.018793\n",
      "Train Epoch: 4 [10624/16000 (66%)]\tLoss: 0.008621\n",
      "Train Epoch: 4 [10752/16000 (67%)]\tLoss: 0.022733\n",
      "Train Epoch: 4 [10880/16000 (68%)]\tLoss: 0.053242\n",
      "Train Epoch: 4 [11008/16000 (69%)]\tLoss: 0.028554\n",
      "Train Epoch: 4 [11136/16000 (70%)]\tLoss: 0.082215\n",
      "Train Epoch: 4 [11264/16000 (70%)]\tLoss: 0.074648\n",
      "Train Epoch: 4 [11392/16000 (71%)]\tLoss: 0.008964\n",
      "Train Epoch: 4 [11520/16000 (72%)]\tLoss: 0.083944\n",
      "Train Epoch: 4 [11648/16000 (73%)]\tLoss: 0.017848\n",
      "Train Epoch: 4 [11776/16000 (74%)]\tLoss: 0.011384\n",
      "Train Epoch: 4 [11904/16000 (74%)]\tLoss: 0.025815\n",
      "Train Epoch: 4 [12032/16000 (75%)]\tLoss: 0.013107\n",
      "Train Epoch: 4 [12160/16000 (76%)]\tLoss: 0.009809\n",
      "Train Epoch: 4 [12288/16000 (77%)]\tLoss: 0.047404\n",
      "Train Epoch: 4 [12416/16000 (78%)]\tLoss: 0.022034\n",
      "Train Epoch: 4 [12544/16000 (78%)]\tLoss: 0.031961\n",
      "Train Epoch: 4 [12672/16000 (79%)]\tLoss: 0.027210\n",
      "Train Epoch: 4 [12800/16000 (80%)]\tLoss: 0.007664\n",
      "Train Epoch: 4 [12928/16000 (81%)]\tLoss: 0.021431\n",
      "Train Epoch: 4 [13056/16000 (82%)]\tLoss: 0.041605\n",
      "Train Epoch: 4 [13184/16000 (82%)]\tLoss: 0.024191\n",
      "Train Epoch: 4 [13312/16000 (83%)]\tLoss: 0.022731\n",
      "Train Epoch: 4 [13440/16000 (84%)]\tLoss: 0.031667\n",
      "Train Epoch: 4 [13568/16000 (85%)]\tLoss: 0.099103\n",
      "Train Epoch: 4 [13696/16000 (86%)]\tLoss: 0.017463\n",
      "Train Epoch: 4 [13824/16000 (86%)]\tLoss: 0.023052\n",
      "Train Epoch: 4 [13952/16000 (87%)]\tLoss: 0.012614\n",
      "Train Epoch: 4 [14080/16000 (88%)]\tLoss: 0.065862\n",
      "Train Epoch: 4 [14208/16000 (89%)]\tLoss: 0.014450\n",
      "Train Epoch: 4 [14336/16000 (90%)]\tLoss: 0.023246\n",
      "Train Epoch: 4 [14464/16000 (90%)]\tLoss: 0.040302\n",
      "Train Epoch: 4 [14592/16000 (91%)]\tLoss: 0.006073\n",
      "Train Epoch: 4 [14720/16000 (92%)]\tLoss: 0.008396\n",
      "Train Epoch: 4 [14848/16000 (93%)]\tLoss: 0.064420\n",
      "Train Epoch: 4 [14976/16000 (94%)]\tLoss: 0.002741\n",
      "Train Epoch: 4 [15104/16000 (94%)]\tLoss: 0.046632\n",
      "Train Epoch: 4 [15232/16000 (95%)]\tLoss: 0.028402\n",
      "Train Epoch: 4 [15360/16000 (96%)]\tLoss: 0.020117\n",
      "Train Epoch: 4 [15488/16000 (97%)]\tLoss: 0.024195\n",
      "Train Epoch: 4 [15616/16000 (98%)]\tLoss: 0.017704\n"
     ]
    },
    {
     "name": "stdout",
     "output_type": "stream",
     "text": [
      "Train Epoch: 4 [15744/16000 (98%)]\tLoss: 0.073592\n",
      "Train Epoch: 4 [15872/16000 (99%)]\tLoss: 0.006712\n",
      "Train Epoch: 4 [16000/16000 (100%)]\tLoss: 0.013681\n",
      "\n",
      "Test set: Average loss: 0.0732, Accuracy: 3913/4000 (97.825%)\n",
      "\n",
      "Train Epoch: 5 [128/16000 (1%)]\tLoss: 0.053290\n",
      "Train Epoch: 5 [256/16000 (2%)]\tLoss: 0.031334\n",
      "Train Epoch: 5 [384/16000 (2%)]\tLoss: 0.022712\n",
      "Train Epoch: 5 [512/16000 (3%)]\tLoss: 0.048133\n",
      "Train Epoch: 5 [640/16000 (4%)]\tLoss: 0.018626\n",
      "Train Epoch: 5 [768/16000 (5%)]\tLoss: 0.044199\n",
      "Train Epoch: 5 [896/16000 (6%)]\tLoss: 0.035639\n",
      "Train Epoch: 5 [1024/16000 (6%)]\tLoss: 0.036005\n",
      "Train Epoch: 5 [1152/16000 (7%)]\tLoss: 0.021623\n",
      "Train Epoch: 5 [1280/16000 (8%)]\tLoss: 0.015772\n",
      "Train Epoch: 5 [1408/16000 (9%)]\tLoss: 0.038737\n",
      "Train Epoch: 5 [1536/16000 (10%)]\tLoss: 0.032194\n",
      "Train Epoch: 5 [1664/16000 (10%)]\tLoss: 0.050878\n",
      "Train Epoch: 5 [1792/16000 (11%)]\tLoss: 0.013319\n",
      "Train Epoch: 5 [1920/16000 (12%)]\tLoss: 0.056046\n",
      "Train Epoch: 5 [2048/16000 (13%)]\tLoss: 0.017618\n",
      "Train Epoch: 5 [2176/16000 (14%)]\tLoss: 0.025276\n",
      "Train Epoch: 5 [2304/16000 (14%)]\tLoss: 0.037864\n",
      "Train Epoch: 5 [2432/16000 (15%)]\tLoss: 0.056003\n",
      "Train Epoch: 5 [2560/16000 (16%)]\tLoss: 0.011579\n",
      "Train Epoch: 5 [2688/16000 (17%)]\tLoss: 0.001951\n",
      "Train Epoch: 5 [2816/16000 (18%)]\tLoss: 0.034023\n",
      "Train Epoch: 5 [2944/16000 (18%)]\tLoss: 0.027703\n",
      "Train Epoch: 5 [3072/16000 (19%)]\tLoss: 0.036375\n",
      "Train Epoch: 5 [3200/16000 (20%)]\tLoss: 0.097466\n",
      "Train Epoch: 5 [3328/16000 (21%)]\tLoss: 0.003056\n",
      "Train Epoch: 5 [3456/16000 (22%)]\tLoss: 0.012371\n",
      "Train Epoch: 5 [3584/16000 (22%)]\tLoss: 0.054875\n",
      "Train Epoch: 5 [3712/16000 (23%)]\tLoss: 0.052574\n",
      "Train Epoch: 5 [3840/16000 (24%)]\tLoss: 0.046114\n",
      "Train Epoch: 5 [3968/16000 (25%)]\tLoss: 0.027886\n",
      "Train Epoch: 5 [4096/16000 (26%)]\tLoss: 0.064394\n",
      "Train Epoch: 5 [4224/16000 (26%)]\tLoss: 0.082628\n",
      "Train Epoch: 5 [4352/16000 (27%)]\tLoss: 0.153558\n",
      "Train Epoch: 5 [4480/16000 (28%)]\tLoss: 0.064457\n",
      "Train Epoch: 5 [4608/16000 (29%)]\tLoss: 0.013294\n",
      "Train Epoch: 5 [4736/16000 (30%)]\tLoss: 0.014563\n",
      "Train Epoch: 5 [4864/16000 (30%)]\tLoss: 0.003374\n",
      "Train Epoch: 5 [4992/16000 (31%)]\tLoss: 0.006006\n",
      "Train Epoch: 5 [5120/16000 (32%)]\tLoss: 0.084075\n",
      "Train Epoch: 5 [5248/16000 (33%)]\tLoss: 0.070567\n",
      "Train Epoch: 5 [5376/16000 (34%)]\tLoss: 0.039098\n",
      "Train Epoch: 5 [5504/16000 (34%)]\tLoss: 0.068986\n",
      "Train Epoch: 5 [5632/16000 (35%)]\tLoss: 0.028258\n",
      "Train Epoch: 5 [5760/16000 (36%)]\tLoss: 0.024108\n",
      "Train Epoch: 5 [5888/16000 (37%)]\tLoss: 0.063251\n",
      "Train Epoch: 5 [6016/16000 (38%)]\tLoss: 0.006108\n",
      "Train Epoch: 5 [6144/16000 (38%)]\tLoss: 0.012367\n",
      "Train Epoch: 5 [6272/16000 (39%)]\tLoss: 0.028722\n",
      "Train Epoch: 5 [6400/16000 (40%)]\tLoss: 0.013923\n",
      "Train Epoch: 5 [6528/16000 (41%)]\tLoss: 0.070602\n",
      "Train Epoch: 5 [6656/16000 (42%)]\tLoss: 0.006847\n",
      "Train Epoch: 5 [6784/16000 (42%)]\tLoss: 0.018007\n",
      "Train Epoch: 5 [6912/16000 (43%)]\tLoss: 0.035896\n",
      "Train Epoch: 5 [7040/16000 (44%)]\tLoss: 0.087520\n",
      "Train Epoch: 5 [7168/16000 (45%)]\tLoss: 0.014614\n",
      "Train Epoch: 5 [7296/16000 (46%)]\tLoss: 0.033857\n",
      "Train Epoch: 5 [7424/16000 (46%)]\tLoss: 0.081487\n",
      "Train Epoch: 5 [7552/16000 (47%)]\tLoss: 0.015206\n",
      "Train Epoch: 5 [7680/16000 (48%)]\tLoss: 0.025585\n",
      "Train Epoch: 5 [7808/16000 (49%)]\tLoss: 0.026651\n",
      "Train Epoch: 5 [7936/16000 (50%)]\tLoss: 0.011590\n",
      "Train Epoch: 5 [8064/16000 (50%)]\tLoss: 0.052940\n",
      "Train Epoch: 5 [8192/16000 (51%)]\tLoss: 0.042702\n",
      "Train Epoch: 5 [8320/16000 (52%)]\tLoss: 0.010313\n",
      "Train Epoch: 5 [8448/16000 (53%)]\tLoss: 0.013979\n",
      "Train Epoch: 5 [8576/16000 (54%)]\tLoss: 0.007797\n",
      "Train Epoch: 5 [8704/16000 (54%)]\tLoss: 0.008426\n",
      "Train Epoch: 5 [8832/16000 (55%)]\tLoss: 0.040581\n",
      "Train Epoch: 5 [8960/16000 (56%)]\tLoss: 0.078263\n",
      "Train Epoch: 5 [9088/16000 (57%)]\tLoss: 0.019068\n",
      "Train Epoch: 5 [9216/16000 (58%)]\tLoss: 0.039037\n",
      "Train Epoch: 5 [9344/16000 (58%)]\tLoss: 0.016442\n",
      "Train Epoch: 5 [9472/16000 (59%)]\tLoss: 0.033079\n",
      "Train Epoch: 5 [9600/16000 (60%)]\tLoss: 0.025236\n",
      "Train Epoch: 5 [9728/16000 (61%)]\tLoss: 0.004346\n",
      "Train Epoch: 5 [9856/16000 (62%)]\tLoss: 0.058394\n",
      "Train Epoch: 5 [9984/16000 (62%)]\tLoss: 0.003240\n",
      "Train Epoch: 5 [10112/16000 (63%)]\tLoss: 0.004853\n",
      "Train Epoch: 5 [10240/16000 (64%)]\tLoss: 0.010211\n",
      "Train Epoch: 5 [10368/16000 (65%)]\tLoss: 0.009695\n",
      "Train Epoch: 5 [10496/16000 (66%)]\tLoss: 0.018237\n",
      "Train Epoch: 5 [10624/16000 (66%)]\tLoss: 0.042523\n",
      "Train Epoch: 5 [10752/16000 (67%)]\tLoss: 0.019669\n",
      "Train Epoch: 5 [10880/16000 (68%)]\tLoss: 0.018548\n",
      "Train Epoch: 5 [11008/16000 (69%)]\tLoss: 0.012836\n",
      "Train Epoch: 5 [11136/16000 (70%)]\tLoss: 0.006460\n",
      "Train Epoch: 5 [11264/16000 (70%)]\tLoss: 0.028267\n",
      "Train Epoch: 5 [11392/16000 (71%)]\tLoss: 0.023814\n",
      "Train Epoch: 5 [11520/16000 (72%)]\tLoss: 0.125558\n",
      "Train Epoch: 5 [11648/16000 (73%)]\tLoss: 0.045162\n",
      "Train Epoch: 5 [11776/16000 (74%)]\tLoss: 0.026957\n",
      "Train Epoch: 5 [11904/16000 (74%)]\tLoss: 0.023284\n",
      "Train Epoch: 5 [12032/16000 (75%)]\tLoss: 0.051290\n",
      "Train Epoch: 5 [12160/16000 (76%)]\tLoss: 0.060462\n",
      "Train Epoch: 5 [12288/16000 (77%)]\tLoss: 0.026898\n",
      "Train Epoch: 5 [12416/16000 (78%)]\tLoss: 0.043192\n",
      "Train Epoch: 5 [12544/16000 (78%)]\tLoss: 0.043317\n",
      "Train Epoch: 5 [12672/16000 (79%)]\tLoss: 0.005661\n",
      "Train Epoch: 5 [12800/16000 (80%)]\tLoss: 0.011011\n",
      "Train Epoch: 5 [12928/16000 (81%)]\tLoss: 0.039264\n",
      "Train Epoch: 5 [13056/16000 (82%)]\tLoss: 0.041220\n",
      "Train Epoch: 5 [13184/16000 (82%)]\tLoss: 0.006208\n",
      "Train Epoch: 5 [13312/16000 (83%)]\tLoss: 0.098539\n",
      "Train Epoch: 5 [13440/16000 (84%)]\tLoss: 0.020530\n",
      "Train Epoch: 5 [13568/16000 (85%)]\tLoss: 0.064862\n",
      "Train Epoch: 5 [13696/16000 (86%)]\tLoss: 0.045636\n",
      "Train Epoch: 5 [13824/16000 (86%)]\tLoss: 0.017126\n",
      "Train Epoch: 5 [13952/16000 (87%)]\tLoss: 0.038283\n",
      "Train Epoch: 5 [14080/16000 (88%)]\tLoss: 0.047168\n",
      "Train Epoch: 5 [14208/16000 (89%)]\tLoss: 0.078051\n",
      "Train Epoch: 5 [14336/16000 (90%)]\tLoss: 0.039718\n",
      "Train Epoch: 5 [14464/16000 (90%)]\tLoss: 0.123403\n",
      "Train Epoch: 5 [14592/16000 (91%)]\tLoss: 0.007092\n",
      "Train Epoch: 5 [14720/16000 (92%)]\tLoss: 0.044379\n",
      "Train Epoch: 5 [14848/16000 (93%)]\tLoss: 0.051458\n",
      "Train Epoch: 5 [14976/16000 (94%)]\tLoss: 0.052498\n",
      "Train Epoch: 5 [15104/16000 (94%)]\tLoss: 0.005413\n",
      "Train Epoch: 5 [15232/16000 (95%)]\tLoss: 0.024815\n",
      "Train Epoch: 5 [15360/16000 (96%)]\tLoss: 0.030086\n",
      "Train Epoch: 5 [15488/16000 (97%)]\tLoss: 0.024799\n",
      "Train Epoch: 5 [15616/16000 (98%)]\tLoss: 0.022348\n",
      "Train Epoch: 5 [15744/16000 (98%)]\tLoss: 0.014304\n",
      "Train Epoch: 5 [15872/16000 (99%)]\tLoss: 0.049662\n",
      "Train Epoch: 5 [16000/16000 (100%)]\tLoss: 0.019343\n",
      "\n",
      "Test set: Average loss: 0.0418, Accuracy: 3949/4000 (98.725%)\n",
      "\n",
      "Train Epoch: 6 [128/16000 (1%)]\tLoss: 0.026385\n",
      "Train Epoch: 6 [256/16000 (2%)]\tLoss: 0.050464\n",
      "Train Epoch: 6 [384/16000 (2%)]\tLoss: 0.001484\n",
      "Train Epoch: 6 [512/16000 (3%)]\tLoss: 0.006256\n",
      "Train Epoch: 6 [640/16000 (4%)]\tLoss: 0.015695\n",
      "Train Epoch: 6 [768/16000 (5%)]\tLoss: 0.044972\n",
      "Train Epoch: 6 [896/16000 (6%)]\tLoss: 0.005075\n",
      "Train Epoch: 6 [1024/16000 (6%)]\tLoss: 0.064163\n",
      "Train Epoch: 6 [1152/16000 (7%)]\tLoss: 0.073127\n",
      "Train Epoch: 6 [1280/16000 (8%)]\tLoss: 0.006394\n",
      "Train Epoch: 6 [1408/16000 (9%)]\tLoss: 0.046716\n",
      "Train Epoch: 6 [1536/16000 (10%)]\tLoss: 0.011020\n",
      "Train Epoch: 6 [1664/16000 (10%)]\tLoss: 0.006432\n",
      "Train Epoch: 6 [1792/16000 (11%)]\tLoss: 0.038081\n",
      "Train Epoch: 6 [1920/16000 (12%)]\tLoss: 0.007500\n",
      "Train Epoch: 6 [2048/16000 (13%)]\tLoss: 0.030333\n",
      "Train Epoch: 6 [2176/16000 (14%)]\tLoss: 0.023683\n",
      "Train Epoch: 6 [2304/16000 (14%)]\tLoss: 0.003002\n",
      "Train Epoch: 6 [2432/16000 (15%)]\tLoss: 0.046388\n",
      "Train Epoch: 6 [2560/16000 (16%)]\tLoss: 0.043481\n",
      "Train Epoch: 6 [2688/16000 (17%)]\tLoss: 0.007087\n",
      "Train Epoch: 6 [2816/16000 (18%)]\tLoss: 0.008843\n",
      "Train Epoch: 6 [2944/16000 (18%)]\tLoss: 0.002996\n",
      "Train Epoch: 6 [3072/16000 (19%)]\tLoss: 0.037204\n",
      "Train Epoch: 6 [3200/16000 (20%)]\tLoss: 0.003056\n",
      "Train Epoch: 6 [3328/16000 (21%)]\tLoss: 0.014793\n",
      "Train Epoch: 6 [3456/16000 (22%)]\tLoss: 0.018571\n",
      "Train Epoch: 6 [3584/16000 (22%)]\tLoss: 0.014955\n",
      "Train Epoch: 6 [3712/16000 (23%)]\tLoss: 0.016787\n",
      "Train Epoch: 6 [3840/16000 (24%)]\tLoss: 0.055387\n",
      "Train Epoch: 6 [3968/16000 (25%)]\tLoss: 0.018372\n",
      "Train Epoch: 6 [4096/16000 (26%)]\tLoss: 0.003018\n",
      "Train Epoch: 6 [4224/16000 (26%)]\tLoss: 0.003086\n",
      "Train Epoch: 6 [4352/16000 (27%)]\tLoss: 0.006475\n",
      "Train Epoch: 6 [4480/16000 (28%)]\tLoss: 0.044470\n",
      "Train Epoch: 6 [4608/16000 (29%)]\tLoss: 0.027356\n",
      "Train Epoch: 6 [4736/16000 (30%)]\tLoss: 0.033282\n"
     ]
    },
    {
     "name": "stdout",
     "output_type": "stream",
     "text": [
      "Train Epoch: 6 [4864/16000 (30%)]\tLoss: 0.056891\n",
      "Train Epoch: 6 [4992/16000 (31%)]\tLoss: 0.010801\n",
      "Train Epoch: 6 [5120/16000 (32%)]\tLoss: 0.009034\n",
      "Train Epoch: 6 [5248/16000 (33%)]\tLoss: 0.030747\n",
      "Train Epoch: 6 [5376/16000 (34%)]\tLoss: 0.010234\n",
      "Train Epoch: 6 [5504/16000 (34%)]\tLoss: 0.017382\n",
      "Train Epoch: 6 [5632/16000 (35%)]\tLoss: 0.007261\n",
      "Train Epoch: 6 [5760/16000 (36%)]\tLoss: 0.063406\n",
      "Train Epoch: 6 [5888/16000 (37%)]\tLoss: 0.013055\n",
      "Train Epoch: 6 [6016/16000 (38%)]\tLoss: 0.014087\n",
      "Train Epoch: 6 [6144/16000 (38%)]\tLoss: 0.023150\n",
      "Train Epoch: 6 [6272/16000 (39%)]\tLoss: 0.005522\n",
      "Train Epoch: 6 [6400/16000 (40%)]\tLoss: 0.013550\n",
      "Train Epoch: 6 [6528/16000 (41%)]\tLoss: 0.042648\n",
      "Train Epoch: 6 [6656/16000 (42%)]\tLoss: 0.003179\n",
      "Train Epoch: 6 [6784/16000 (42%)]\tLoss: 0.001832\n",
      "Train Epoch: 6 [6912/16000 (43%)]\tLoss: 0.010081\n",
      "Train Epoch: 6 [7040/16000 (44%)]\tLoss: 0.045648\n",
      "Train Epoch: 6 [7168/16000 (45%)]\tLoss: 0.008638\n",
      "Train Epoch: 6 [7296/16000 (46%)]\tLoss: 0.029491\n",
      "Train Epoch: 6 [7424/16000 (46%)]\tLoss: 0.032001\n",
      "Train Epoch: 6 [7552/16000 (47%)]\tLoss: 0.002678\n",
      "Train Epoch: 6 [7680/16000 (48%)]\tLoss: 0.003448\n",
      "Train Epoch: 6 [7808/16000 (49%)]\tLoss: 0.024450\n",
      "Train Epoch: 6 [7936/16000 (50%)]\tLoss: 0.006357\n",
      "Train Epoch: 6 [8064/16000 (50%)]\tLoss: 0.002603\n",
      "Train Epoch: 6 [8192/16000 (51%)]\tLoss: 0.073029\n",
      "Train Epoch: 6 [8320/16000 (52%)]\tLoss: 0.020146\n",
      "Train Epoch: 6 [8448/16000 (53%)]\tLoss: 0.008110\n",
      "Train Epoch: 6 [8576/16000 (54%)]\tLoss: 0.015724\n",
      "Train Epoch: 6 [8704/16000 (54%)]\tLoss: 0.027500\n",
      "Train Epoch: 6 [8832/16000 (55%)]\tLoss: 0.007339\n",
      "Train Epoch: 6 [8960/16000 (56%)]\tLoss: 0.042430\n",
      "Train Epoch: 6 [9088/16000 (57%)]\tLoss: 0.014482\n",
      "Train Epoch: 6 [9216/16000 (58%)]\tLoss: 0.077709\n",
      "Train Epoch: 6 [9344/16000 (58%)]\tLoss: 0.045678\n",
      "Train Epoch: 6 [9472/16000 (59%)]\tLoss: 0.049629\n",
      "Train Epoch: 6 [9600/16000 (60%)]\tLoss: 0.039505\n",
      "Train Epoch: 6 [9728/16000 (61%)]\tLoss: 0.021793\n",
      "Train Epoch: 6 [9856/16000 (62%)]\tLoss: 0.001229\n",
      "Train Epoch: 6 [9984/16000 (62%)]\tLoss: 0.011593\n",
      "Train Epoch: 6 [10112/16000 (63%)]\tLoss: 0.037491\n",
      "Train Epoch: 6 [10240/16000 (64%)]\tLoss: 0.040298\n",
      "Train Epoch: 6 [10368/16000 (65%)]\tLoss: 0.069528\n",
      "Train Epoch: 6 [10496/16000 (66%)]\tLoss: 0.018542\n",
      "Train Epoch: 6 [10624/16000 (66%)]\tLoss: 0.015308\n",
      "Train Epoch: 6 [10752/16000 (67%)]\tLoss: 0.019203\n",
      "Train Epoch: 6 [10880/16000 (68%)]\tLoss: 0.011705\n",
      "Train Epoch: 6 [11008/16000 (69%)]\tLoss: 0.023677\n",
      "Train Epoch: 6 [11136/16000 (70%)]\tLoss: 0.065245\n",
      "Train Epoch: 6 [11264/16000 (70%)]\tLoss: 0.029932\n",
      "Train Epoch: 6 [11392/16000 (71%)]\tLoss: 0.014862\n",
      "Train Epoch: 6 [11520/16000 (72%)]\tLoss: 0.088918\n",
      "Train Epoch: 6 [11648/16000 (73%)]\tLoss: 0.072081\n",
      "Train Epoch: 6 [11776/16000 (74%)]\tLoss: 0.078883\n",
      "Train Epoch: 6 [11904/16000 (74%)]\tLoss: 0.013395\n",
      "Train Epoch: 6 [12032/16000 (75%)]\tLoss: 0.006765\n",
      "Train Epoch: 6 [12160/16000 (76%)]\tLoss: 0.003206\n",
      "Train Epoch: 6 [12288/16000 (77%)]\tLoss: 0.026167\n",
      "Train Epoch: 6 [12416/16000 (78%)]\tLoss: 0.023281\n",
      "Train Epoch: 6 [12544/16000 (78%)]\tLoss: 0.025296\n",
      "Train Epoch: 6 [12672/16000 (79%)]\tLoss: 0.128450\n",
      "Train Epoch: 6 [12800/16000 (80%)]\tLoss: 0.020044\n",
      "Train Epoch: 6 [12928/16000 (81%)]\tLoss: 0.090725\n",
      "Train Epoch: 6 [13056/16000 (82%)]\tLoss: 0.034678\n",
      "Train Epoch: 6 [13184/16000 (82%)]\tLoss: 0.075146\n",
      "Train Epoch: 6 [13312/16000 (83%)]\tLoss: 0.004820\n",
      "Train Epoch: 6 [13440/16000 (84%)]\tLoss: 0.004291\n",
      "Train Epoch: 6 [13568/16000 (85%)]\tLoss: 0.012225\n",
      "Train Epoch: 6 [13696/16000 (86%)]\tLoss: 0.031720\n",
      "Train Epoch: 6 [13824/16000 (86%)]\tLoss: 0.002615\n",
      "Train Epoch: 6 [13952/16000 (87%)]\tLoss: 0.087593\n",
      "Train Epoch: 6 [14080/16000 (88%)]\tLoss: 0.006192\n",
      "Train Epoch: 6 [14208/16000 (89%)]\tLoss: 0.039234\n",
      "Train Epoch: 6 [14336/16000 (90%)]\tLoss: 0.022796\n",
      "Train Epoch: 6 [14464/16000 (90%)]\tLoss: 0.011084\n",
      "Train Epoch: 6 [14592/16000 (91%)]\tLoss: 0.054348\n",
      "Train Epoch: 6 [14720/16000 (92%)]\tLoss: 0.025512\n",
      "Train Epoch: 6 [14848/16000 (93%)]\tLoss: 0.018136\n",
      "Train Epoch: 6 [14976/16000 (94%)]\tLoss: 0.032674\n",
      "Train Epoch: 6 [15104/16000 (94%)]\tLoss: 0.016745\n",
      "Train Epoch: 6 [15232/16000 (95%)]\tLoss: 0.023089\n",
      "Train Epoch: 6 [15360/16000 (96%)]\tLoss: 0.068647\n",
      "Train Epoch: 6 [15488/16000 (97%)]\tLoss: 0.006246\n",
      "Train Epoch: 6 [15616/16000 (98%)]\tLoss: 0.064098\n",
      "Train Epoch: 6 [15744/16000 (98%)]\tLoss: 0.014402\n",
      "Train Epoch: 6 [15872/16000 (99%)]\tLoss: 0.058945\n",
      "Train Epoch: 6 [16000/16000 (100%)]\tLoss: 0.001072\n",
      "\n",
      "Test set: Average loss: 0.0705, Accuracy: 3918/4000 (97.950%)\n",
      "\n",
      "CPU times: user 3h 11min 29s, sys: 5h 31min 56s, total: 8h 43min 26s\n",
      "Wall time: 35min 11s\n"
     ]
    }
   ],
   "source": [
    "%%time\n",
    "\n",
    "per_batch_acc = []\n",
    "epoch_acc = []\n",
    "val_losses = []\n",
    "best_acc = 0\n",
    "\n",
    "# max 200 epochs, we are going to stop training when validation score gets worse\n",
    "for epoch in range(1, 200 + 1):\n",
    "    train(epoch, get_save_acc_in(per_batch_acc))\n",
    "    accuracy, val_loss = test()\n",
    "    epoch_acc.append(accuracy)\n",
    "    val_losses.append(val_loss)\n",
    "    \n",
    "    if best_acc < accuracy:\n",
    "        best_acc = accuracy\n",
    "        torch.save(model.state_dict(), './model_final')\n",
    "    else:\n",
    "        break"
   ]
  },
  {
   "cell_type": "code",
   "execution_count": 29,
   "metadata": {
    "collapsed": true
   },
   "outputs": [],
   "source": [
    "def plot_accuracy(accuracy_arr, title, xlabel='Number of batches seen'):\n",
    "    ax = plt.gca()\n",
    "    ax.plot(np.arange(len(accuracy_arr)), accuracy_arr)\n",
    "    # could be more than the total number of batches because of epochs\n",
    "    ax.set_xlabel(xlabel)\n",
    "    ax.set_ylabel('Accuracy')\n",
    "    ax.set_xticks(np.arange(len(accuracy_arr)))\n",
    "    plt.title(title)\n",
    "    plt.show()\n",
    "    np.arange(len(accuracy_arr))"
   ]
  },
  {
   "cell_type": "code",
   "execution_count": 30,
   "metadata": {},
   "outputs": [
    {
     "data": {
      "image/png": "[encoded data removed]",
      "text/plain": [
       "<matplotlib.figure.Figure at 0x7f126247bba8>"
      ]
     },
     "metadata": {},
     "output_type": "display_data"
    }
   ],
   "source": [
    "plot_accuracy(per_batch_acc[::50], 'Per batch accuracy')"
   ]
  },
  {
   "cell_type": "code",
   "execution_count": 32,
   "metadata": {},
   "outputs": [
    {
     "data": {
      "image/png": "[encoded data removed]",
      "text/plain": [
       "<matplotlib.figure.Figure at 0x7f125ac4ed30>"
      ]
     },
     "metadata": {},
     "output_type": "display_data"
    }
   ],
   "source": [
    "plot_accuracy(epoch_acc, 'Epoch accuracy')"
   ]
  },
  {
   "cell_type": "code",
   "execution_count": 42,
   "metadata": {},
   "outputs": [],
   "source": [
    "model = VGG()\n",
    "model.load_state_dict(torch.load('./model_final'))"
   ]
  },
  {
   "cell_type": "code",
   "execution_count": 43,
   "metadata": {},
   "outputs": [
    {
     "name": "stdout",
     "output_type": "stream",
     "text": [
      "\n",
      "Test set: Average loss: 0.0368, Accuracy: 3958/4000 (98.950%)\n",
      "\n"
     ]
    },
    {
     "data": {
      "text/plain": [
       "(98.95, 0.03684121347684413)"
      ]
     },
     "execution_count": 43,
     "metadata": {},
     "output_type": "execute_result"
    }
   ],
   "source": [
    "test()"
   ]
  },
  {
   "cell_type": "markdown",
   "metadata": {},
   "source": [
    "### Prediction for challenge"
   ]
  },
  {
   "cell_type": "code",
   "execution_count": 49,
   "metadata": {},
   "outputs": [],
   "source": [
    " out = model(Variable(torch.from_numpy(test_x)))\n",
    "_, prediction = torch.max(out, 1)\n",
    "prediction = prediction.data.numpy()"
   ]
  },
  {
   "cell_type": "code",
   "execution_count": 50,
   "metadata": {},
   "outputs": [
    {
     "name": "stdout",
     "output_type": "stream",
     "text": [
      "9\n"
     ]
    },
    {
     "data": {
      "image/png": "[encoded data removed]",
      "text/plain": [
       "<matplotlib.figure.Figure at 0x7f125ad02ba8>"
      ]
     },
     "metadata": {},
     "output_type": "display_data"
    }
   ],
   "source": [
    "plt.imshow((test_x)[873][0], cmap='gray')\n",
    "print(prediction[873])"
   ]
  },
  {
   "cell_type": "code",
   "execution_count": 51,
   "metadata": {},
   "outputs": [
    {
     "name": "stdout",
     "output_type": "stream",
     "text": [
      "5\n"
     ]
    },
    {
     "data": {
      "image/png": "[encoded data removed]",
      "text/plain": [
       "<matplotlib.figure.Figure at 0x7f126278aa58>"
      ]
     },
     "metadata": {},
     "output_type": "display_data"
    }
   ],
   "source": [
    "plt.imshow((test_x)[164][0], cmap='gray')\n",
    "print(prediction[164])"
   ]
  },
  {
   "cell_type": "code",
   "execution_count": 52,
   "metadata": {},
   "outputs": [
    {
     "name": "stdout",
     "output_type": "stream",
     "text": [
      "3\n"
     ]
    },
    {
     "data": {
      "image/png": "[encoded data removed]",
      "text/plain": [
       "<matplotlib.figure.Figure at 0x7f125abf7e80>"
      ]
     },
     "metadata": {},
     "output_type": "display_data"
    }
   ],
   "source": [
    "plt.imshow((test_x)[129][0], cmap='gray')\n",
    "print(prediction[129])"
   ]
  },
  {
   "cell_type": "code",
   "execution_count": 53,
   "metadata": {
    "collapsed": true
   },
   "outputs": [],
   "source": [
    "assert prediction.ndim == 1\n",
    "assert prediction.shape[0] == 2000\n",
    "\n",
    "# AND SAVE EXACTLY AS SHOWN BELOW\n",
    "np.save(\"./prediction.npy\", prediction)"
   ]
  },
  {
   "cell_type": "code",
   "execution_count": null,
   "metadata": {
    "collapsed": true
   },
   "outputs": [],
   "source": []
  }
 ],
 "metadata": {
  "kernelspec": {
   "display_name": "Python 3",
   "language": "python",
   "name": "python3"
  },
  "language_info": {
   "codemirror_mode": {
    "name": "ipython",
    "version": 3
   },
   "file_extension": ".py",
   "mimetype": "text/x-python",
   "name": "python",
   "nbconvert_exporter": "python",
   "pygments_lexer": "ipython3",
   "version": "3.6.2"
  }
 },
 "nbformat": 4,
 "nbformat_minor": 2
}
